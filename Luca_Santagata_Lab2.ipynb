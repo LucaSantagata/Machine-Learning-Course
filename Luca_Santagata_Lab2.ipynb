{
 "cells": [
  {
   "cell_type": "markdown",
   "metadata": {},
   "source": [
    "# Kuzushiji Classification with Support Vector Machines\n",
    "\n",
    "In this notebook we are going to explore the use of Support Vector Machines (SVM) for image classification. We will use a variant of the famous MNIST dataset (the original is a dataset of handwritten digits). The version we are going to use is called Kuzushiji-MNIST or K-MNIST for short (https://github.com/rois-codh/kmnist) and is a dataset of traditional japanese handwritten kana.\n",
    "\n",
    "\n",
    "\n",
    "The dataset labels are the following:\n",
    "\n",
    "| Label | Hiragana Character | Romanji (Pronunciation) |\n",
    "| :-: | :-: | :-: |\n",
    "|   0   | お | o |\n",
    "| 1 | き | ki |\n",
    "| 2 | す | su |\n",
    "| 3 | つ | tsu |\n",
    "| 4 | な | na |\n",
    "| 5 | は | ha |\n",
    "| 6 | ま | ma |\n",
    "| 7 | や | ya |\n",
    "| 8 | れ | re |\n",
    "| 9 | を | wo |"
   ]
  },
  {
   "cell_type": "markdown",
   "metadata": {},
   "source": [
    "## TODO: Insert your surname, name and ID number\n",
    "\n",
    "Student surname: Santagata\n",
    "Student name: Luca\n",
    "    \n",
    "ID: 10657643"
   ]
  },
  {
   "cell_type": "code",
   "execution_count": 1,
   "metadata": {},
   "outputs": [],
   "source": [
    "#load the required packages\n",
    "\n",
    "%matplotlib inline  \n",
    "\n",
    "import numpy as np\n",
    "import scipy as sp\n",
    "import matplotlib.pyplot as plt\n",
    "\n",
    "import sklearn\n",
    "from sklearn.datasets import fetch_openml\n",
    "from sklearn.neural_network import MLPClassifier\n",
    "from sklearn.decomposition import PCA\n",
    "import sklearn.metrics as skm"
   ]
  },
  {
   "cell_type": "code",
   "execution_count": 2,
   "metadata": {},
   "outputs": [],
   "source": [
    "# helper function to load Kuzushiji-MNIST dataset\n",
    "def load_mnist(path, kind='train'):\n",
    "    import os\n",
    "    import gzip\n",
    "    import numpy as np\n",
    "    labels_path = os.path.join(path, 'K%s-labels-idx1-ubyte.gz' % kind)\n",
    "    images_path = os.path.join(path, 'K%s-images-idx3-ubyte.gz' % kind)\n",
    "    with gzip.open(labels_path, 'rb') as lbpath:\n",
    "        labels = np.frombuffer(lbpath.read(), dtype=np.uint8,offset=8)\n",
    "    with gzip.open(images_path, 'rb') as imgpath:\n",
    "        images = np.frombuffer(imgpath.read(), dtype=np.uint8,offset=16).reshape(len(labels), 784)\n",
    "    return images, labels"
   ]
  },
  {
   "cell_type": "code",
   "execution_count": 3,
   "metadata": {},
   "outputs": [],
   "source": [
    "#fix your ID (\"numero di matricola\") and the seed for random generator (as usual you can try different seeds)\n",
    "ID = 10657643\n",
    "np.random.seed(ID)"
   ]
  },
  {
   "cell_type": "code",
   "execution_count": 4,
   "metadata": {},
   "outputs": [
    {
     "name": "stdout",
     "output_type": "stream",
     "text": [
      "(60000, 784) (60000,)\n"
     ]
    }
   ],
   "source": [
    "#load the K-MNIST dataset from the 'data' folder and let's normalize the features so that each value is in [0,1] \n",
    "\n",
    "X, y = load_mnist('data', kind='train')\n",
    "# rescale the data\n",
    "X, y = X / 255., y # original pixel values are between 0 and 255\n",
    "print(X.shape, y.shape)"
   ]
  },
  {
   "cell_type": "markdown",
   "metadata": {},
   "source": [
    "Now split into training and test. Make sure that each label is present at least 10 times\n",
    "in training. If it is not, then keep adding permutations to the initial data until this \n",
    "happens."
   ]
  },
  {
   "cell_type": "code",
   "execution_count": 5,
   "metadata": {},
   "outputs": [
    {
     "name": "stdout",
     "output_type": "stream",
     "text": [
      "Labels in training dataset:  [0 1 2 3 4 5 6 7 8 9]\n",
      "Frequencies in training dataset:  [71 57 55 67 53 75 57 50 51 64]\n"
     ]
    }
   ],
   "source": [
    "# Random permute the data and split into training and test taking the first 600\n",
    "# data samples as training and 4000 samples as test\n",
    "permutation = np.random.permutation(X.shape[0])\n",
    "\n",
    "X = X[permutation]\n",
    "y = y[permutation]\n",
    "\n",
    "m_training = 600\n",
    "m_test = 4000\n",
    "\n",
    "X_train, X_test = X[:m_training], X[m_training:m_training+m_test:]\n",
    "y_train, y_test = y[:m_training], y[m_training:m_training+m_test:]\n",
    "\n",
    "labels, freqs = np.unique(y_train, return_counts=True)\n",
    "print(\"Labels in training dataset: \", labels)\n",
    "print(\"Frequencies in training dataset: \", freqs)\n"
   ]
  },
  {
   "cell_type": "code",
   "execution_count": 6,
   "metadata": {},
   "outputs": [],
   "source": [
    "#function for plotting a image and printing the corresponding label\n",
    "def plot_input(X_matrix, labels, index):\n",
    "    print(\"INPUT:\")\n",
    "    plt.imshow(\n",
    "        X_matrix[index].reshape(28,28),\n",
    "        cmap          = plt.cm.gray_r,\n",
    "        interpolation = \"nearest\"\n",
    "    )\n",
    "    plt.show()\n",
    "    print(\"LABEL: %i\"%labels[index])\n",
    "    return"
   ]
  },
  {
   "cell_type": "code",
   "execution_count": 7,
   "metadata": {},
   "outputs": [
    {
     "name": "stdout",
     "output_type": "stream",
     "text": [
      "INPUT:\n"
     ]
    },
    {
     "data": {
      "image/png": "[encoded data removed]",
      "text/plain": [
       "<Figure size 432x288 with 1 Axes>"
      ]
     },
     "metadata": {
      "needs_background": "light"
     },
     "output_type": "display_data"
    },
    {
     "name": "stdout",
     "output_type": "stream",
     "text": [
      "LABEL: 8\n",
      "INPUT:\n"
     ]
    },
    {
     "data": {
      "image/png": "[encoded data removed]",
      "text/plain": [
       "<Figure size 432x288 with 1 Axes>"
      ]
     },
     "metadata": {
      "needs_background": "light"
     },
     "output_type": "display_data"
    },
    {
     "name": "stdout",
     "output_type": "stream",
     "text": [
      "LABEL: 6\n",
      "INPUT:\n"
     ]
    },
    {
     "data": {
      "image/png": "[encoded data removed]",
      "text/plain": [
       "<Figure size 432x288 with 1 Axes>"
      ]
     },
     "metadata": {
      "needs_background": "light"
     },
     "output_type": "display_data"
    },
    {
     "name": "stdout",
     "output_type": "stream",
     "text": [
      "LABEL: 4\n",
      "INPUT:\n"
     ]
    },
    {
     "data": {
      "image/png": "[encoded data removed]",
      "text/plain": [
       "<Figure size 432x288 with 1 Axes>"
      ]
     },
     "metadata": {
      "needs_background": "light"
     },
     "output_type": "display_data"
    },
    {
     "name": "stdout",
     "output_type": "stream",
     "text": [
      "LABEL: 3\n"
     ]
    }
   ],
   "source": [
    "#let's try the plotting function\n",
    "plot_input(X_train,y_train,5)\n",
    "plot_input(X_test,y_test,50)\n",
    "plot_input(X_test,y_test,500)\n",
    "plot_input(X_test,y_test,700)"
   ]
  },
  {
   "cell_type": "markdown",
   "metadata": {},
   "source": [
    "## TO DO 1\n",
    "Use a SVM classifier with cross validation to pick a model. Use a 4-fold cross-validation. Let's start with a Linear kernel:"
   ]
  },
  {
   "cell_type": "code",
   "execution_count": 8,
   "metadata": {},
   "outputs": [
    {
     "name": "stdout",
     "output_type": "stream",
     "text": [
      "RESULTS FOR LINEAR KERNEL\n",
      "Best parameters set found:\n",
      "{'C': 0.01}\n",
      "\n",
      "\n",
      "Score with best parameters:\n",
      "0.7683333333333333\n",
      "\n",
      "\n",
      "All scores on the grid:\n",
      "[0.76833333 0.76833333 0.76833333 0.76833333]\n",
      "\n",
      "\n"
     ]
    }
   ],
   "source": [
    "#import SVC\n",
    "from sklearn.svm import SVC\n",
    "#import for Cross-Validation\n",
    "from sklearn.model_selection import GridSearchCV\n",
    "\n",
    "# parameters for linear SVM C\n",
    "parameters =  {\"C\": [0.01, 0.1, 1, 10]}\n",
    "\n",
    "    \n",
    "#train linear SVM\n",
    "\n",
    "grid = GridSearchCV(SVC(kernel = \"linear\"),parameters, cv=4)\n",
    "grid.fit(X_train, y_train)\n",
    "\n",
    "print ('RESULTS FOR LINEAR KERNEL')\n",
    "\n",
    "print(\"Best parameters set found:\")\n",
    "print(grid.best_params_)\n",
    "print(\"\\n\")\n",
    "\n",
    "print(\"Score with best parameters:\")\n",
    "print(grid.best_score_)\n",
    "print(\"\\n\")\n",
    "\n",
    "print(\"All scores on the grid:\")\n",
    "print(grid.cv_results_[\"mean_test_score\"])\n",
    "print(\"\\n\")"
   ]
  },
  {
   "cell_type": "markdown",
   "metadata": {},
   "source": [
    "## TO DO 2\n",
    "Pick a model for the Polynomial kernel with degree=2:"
   ]
  },
  {
   "cell_type": "code",
   "execution_count": 9,
   "metadata": {},
   "outputs": [
    {
     "name": "stdout",
     "output_type": "stream",
     "text": [
      "RESULTS FOR POLY DEGREE=2 KERNEL\n",
      "Best parameters set found:\n",
      "{'C': 0.01, 'gamma': 1}\n",
      "\n",
      "\n",
      "Score with best parameters:\n",
      "0.79\n",
      "\n",
      "\n",
      "All scores on the grid:\n",
      "[0.125      0.77333333 0.79       0.45166667 0.79       0.79\n",
      " 0.77333333 0.79       0.79      ]\n",
      "\n",
      "\n"
     ]
    }
   ],
   "source": [
    "# parameters for poly with degree 2 kernel\n",
    "parameters = {'C': [0.01, 0.1, 1],'gamma':[0.01,0.1,1]}\n",
    "\n",
    "#run SVM with poly of degree 2 kernel\n",
    "grid = GridSearchCV(SVC(kernel = \"poly\",degree=2), parameters, cv=4)\n",
    "\n",
    "grid.fit(X_train, y_train)\n",
    "\n",
    "\n",
    "print ('RESULTS FOR POLY DEGREE=2 KERNEL')\n",
    "\n",
    "print(\"Best parameters set found:\")\n",
    "print(grid.best_params_)\n",
    "print(\"\\n\")\n",
    "\n",
    "print(\"Score with best parameters:\")\n",
    "print(grid.best_score_)\n",
    "print(\"\\n\")\n",
    "\n",
    "print(\"All scores on the grid:\")\n",
    "print(grid.cv_results_[\"mean_test_score\"])\n",
    "print(\"\\n\")"
   ]
  },
  {
   "cell_type": "markdown",
   "metadata": {},
   "source": [
    "## TO DO 3  see also at the and of this notebook for an implementation of 3 degree polynomial kernel with more training samples\n",
    "\n",
    "Now let's try a higher degree for the polynomial kernel (e.g., 3rd degree)."
   ]
  },
  {
   "cell_type": "code",
   "execution_count": 10,
   "metadata": {},
   "outputs": [
    {
     "name": "stdout",
     "output_type": "stream",
     "text": [
      "RESULTS FOR POLY DEGREE= 3  KERNEL\n",
      "Best parameters set found:\n",
      "{'C': 0.01, 'gamma': 0.1}\n",
      "\n",
      "\n",
      "Score with best parameters:\n",
      "0.7416666666666667\n",
      "\n",
      "\n",
      "All scores on the grid:\n",
      "[0.125      0.74166667 0.73666667 0.34       0.73666667 0.73666667\n",
      " 0.72       0.73666667 0.73666667]\n",
      "\n",
      "\n"
     ]
    }
   ],
   "source": [
    "# parameters for poly with higher degree kernel\n",
    "parameters = {'C': [0.01, 0.1, 1],'gamma':[0.01,0.1,1]}\n",
    "\n",
    "#run SVM with poly of higher degree kernel\n",
    "degree = 3\n",
    "\n",
    "grid = GridSearchCV(SVC(kernel = \"poly\", degree=3), parameters, cv=4)\n",
    "grid.fit(X_train, y_train)\n",
    "\n",
    "print ('RESULTS FOR POLY DEGREE=', degree, ' KERNEL')\n",
    "\n",
    "print(\"Best parameters set found:\")\n",
    "print(grid.best_params_)\n",
    "print(\"\\n\")\n",
    "\n",
    "print(\"Score with best parameters:\")\n",
    "print(grid.best_score_)\n",
    "print(\"\\n\")\n",
    "\n",
    "print(\"All scores on the grid:\")\n",
    "print(grid.cv_results_[\"mean_test_score\"])\n",
    "print(\"\\n\")"
   ]
  },
  {
   "cell_type": "markdown",
   "metadata": {},
   "source": [
    "## TO DO 4\n",
    "Pick a model for the Radial Basis Function kernel:"
   ]
  },
  {
   "cell_type": "code",
   "execution_count": 11,
   "metadata": {},
   "outputs": [
    {
     "name": "stdout",
     "output_type": "stream",
     "text": [
      "RESULTS FOR rbf KERNEL\n",
      "Best parameters set found:\n",
      "{'C': 10, 'gamma': 0.01}\n",
      "\n",
      "\n",
      "Score with best parameters:\n",
      "0.8383333333333333\n",
      "\n",
      "\n",
      "All scores on the grid:\n",
      "[0.125      0.17       0.125      0.125      0.64333333 0.81833333\n",
      " 0.14166667 0.125      0.78666667 0.83833333 0.15       0.125\n",
      " 0.78833333 0.83833333 0.15       0.125     ]\n",
      "\n",
      "\n"
     ]
    }
   ],
   "source": [
    "# parameters for rbf SVM\n",
    "parameters = {'C': [0.1, 1, 10, 100],'gamma':[0.001, 0.01, 0.1,1]}\n",
    "\n",
    "#run SVM with rbf kernel\n",
    "grid = GridSearchCV(SVC(kernel = \"rbf\"), parameters, cv=4)\n",
    "grid.fit(X_train, y_train)\n",
    "\n",
    "\n",
    "print ('RESULTS FOR rbf KERNEL')\n",
    "\n",
    "print(\"Best parameters set found:\")\n",
    "print(grid.best_params_)\n",
    "print(\"\\n\")\n",
    "\n",
    "print(\"Score with best parameters:\")\n",
    "print(grid.best_score_)\n",
    "print(\"\\n\")\n",
    "\n",
    "print(\"All scores on the grid:\")\n",
    "print(grid.cv_results_[\"mean_test_score\"])\n",
    "print(\"\\n\")"
   ]
  },
  {
   "cell_type": "code",
   "execution_count": null,
   "metadata": {},
   "outputs": [],
   "source": []
  },
  {
   "cell_type": "markdown",
   "metadata": {},
   "source": [
    "## QUESTION 1\n",
    "What do you observe when using linear, polynomial and RBF kernels on this dataset ?\n",
    "\n",
    "Considering that the $\\gamma$ parameter determines the scale  of what it means for points to be close togheter, whereas The $C$ parameter limits the importance of each point, I have noticed that:\n",
    "\n",
    "LINEAR KERNEL: The scores aren't affected by the value of $C$ parameter. They are always the same;\n",
    "\n",
    "POLINOMIAL KERNEL:\n",
    "In this case, the model depends on the parameters. \n",
    "The worst results are obtained with the lowest combined values of the $C$ and $\\gamma$ value.\n",
    "Looking at the score with best parameters, the polinomial kernel of degree 2 performs better than the other one with degree 3 \n",
    "(Using 600 samples the polynomial kernel of degree 3 doesn't result better if compared to the other of degree 2. But If I increase the number of training samples, I obtain that degree 3 is much better than degree 2. I have done this in the last part of the notebook, with 6000 training samples).\n",
    "Using 600 training samples the best result obtained with the polinomial kernel of degree 2 is better than the one obtained with linear kernel. \n",
    " \n",
    "\n",
    "RBF KERNEL: \n",
    "As I expected, this kernel returns the best score. The best parameters are $C = 10$ and gammma = $\\gamma = 0.01$\n",
    "The small $\\gamma$ means a large radius for the Gaussian kernel, wich means that many points are considered close by. \n",
    "The bigger value of $C$ allows the misclassified points to have a stronger influence on the model, and makes the decison boundary bend to correcly classify them\n",
    "\n",
    "\n",
    " \n",
    "\n",
    "\n",
    "\n",
    "\n"
   ]
  },
  {
   "cell_type": "markdown",
   "metadata": {},
   "source": [
    "## TO DO 5\n",
    "Report here the best SVM kernel and parameters"
   ]
  },
  {
   "cell_type": "code",
   "execution_count": 12,
   "metadata": {},
   "outputs": [
    {
     "name": "stdout",
     "output_type": "stream",
     "text": [
      "Best SVM training error: 0.000000\n",
      "Best SVM test error: 0.167250\n"
     ]
    }
   ],
   "source": [
    "#get training and test error for the best SVM model from CV\n",
    "best_SVM = SVC(kernel = \"rbf\", C=10, gamma = 0.01) \n",
    "best_SVM.fit(X_train, y_train)\n",
    "\n",
    "training_error = 1 - best_SVM.score(X_train, y_train)\n",
    "test_error = 1 - best_SVM.score(X_test, y_test)\n",
    "\n",
    "#(error is 1 - svm.score)\n",
    "\n",
    "print (\"Best SVM training error: %f\" % training_error)\n",
    "print (\"Best SVM test error: %f\" % test_error)"
   ]
  },
  {
   "cell_type": "markdown",
   "metadata": {},
   "source": [
    "## TO DO 6\n",
    "\n",
    "Analyze how the gamma parameter (inversely proportional to standard deviation of Gaussian Kernel) impact the performances of the classifier"
   ]
  },
  {
   "cell_type": "code",
   "execution_count": 13,
   "metadata": {},
   "outputs": [
    {
     "name": "stdout",
     "output_type": "stream",
     "text": [
      "[1.e-05 1.e-04 1.e-03 1.e-02 1.e-01 1.e+00 1.e+01 1.e+02]\n"
     ]
    }
   ],
   "source": [
    "#Test with different values of gamma\n",
    "\n",
    "# Set gamma values\n",
    "gamma_values = np.logspace(-5,2,8)\n",
    "print(gamma_values)\n"
   ]
  },
  {
   "cell_type": "code",
   "execution_count": 14,
   "metadata": {},
   "outputs": [
    {
     "data": {
      "image/png": "[encoded data removed]",
      "text/plain": [
       "<Figure size 1080x360 with 2 Axes>"
      ]
     },
     "metadata": {
      "needs_background": "light"
     },
     "output_type": "display_data"
    }
   ],
   "source": [
    "# Try the SVM with the previously set values of gamma\n",
    "# use rbf kernel and C=1\n",
    "\n",
    "train_acc_list, test_acc_list = [], []\n",
    "\n",
    "    \n",
    "# ADD YOUR CODE TO TRAIN THE SVM MULTIPLE TIMES WITH THE DIFFERENT VALUES OF GAMMA\n",
    "# PLACE THE TRAIN AND TEST ACCURACY FOR EACH TEST IN THE TRAIN AND TEST ACCURACY LISTS\n",
    "for gamma in gamma_values:\n",
    "    model = SVC(kernel = \"rbf\", C=1, gamma=gamma)\n",
    "    model.fit(X_train, y_train)\n",
    "    train_acc_list.append(model.score(X_train, y_train))\n",
    "    test_acc_list.append(model.score(X_test, y_test))\n",
    "    \n",
    "    \n",
    "\n",
    "# Plot\n",
    "fig, ax = plt.subplots(1,2, figsize=(15,5))\n",
    "\n",
    "ax[0].plot(gamma_values, train_acc_list)\n",
    "ax[0].set_xscale('log')\n",
    "ax[0].set_xlabel('gamma')\n",
    "ax[0].set_ylabel('Train accuracy')\n",
    "ax[0].grid(True)\n",
    "\n",
    "ax[1].plot(gamma_values, test_acc_list)\n",
    "ax[1].set_xscale('log')\n",
    "ax[1].set_xlabel('gamma')\n",
    "ax[1].set_ylabel('Test accuracy')\n",
    "ax[1].grid(True)\n",
    "\n",
    "\n",
    "plt.show()"
   ]
  },
  {
   "cell_type": "markdown",
   "metadata": {},
   "source": [
    "## QUESTION 2\n",
    "How do the train and test error change when changing gamma ? Which is the best value of gamma ? \n",
    "Connect your answers to the discussion about the overfitting issue.\n",
    "\n",
    "It's possiblo to notice that the best value of $\\gamma$ is of the order of $10^{-2}$. Whit this parameter the train accuracy is $\\sim 100\\% $, and the test accuracy is $\\sim 80\\% $.\n",
    "\n",
    "If the value of $\\gamma$ is of the order less than $10^{-4}$ the model doesn't learn, with bad scores on both training and test accuracy.\n",
    "\n",
    "The most interesting aspect is for the values of $\\gamma$ of the order bigger than $10^{-2}$: in this case there is \n",
    "clearly an example of overfitting. Increasing $\\gamma$ the train accuracy reaches the $100\\%$, whereas the test accuracy goes to $10\\%$. This means that the model has memorized all the training data., but unfortunately cannot perform accurately against test data."
   ]
  },
  {
   "cell_type": "markdown",
   "metadata": {},
   "source": [
    "## More data\n",
    "Now let's do the same but using more data points for training.\n",
    "\n",
    "\n",
    "Choose a new number of data points."
   ]
  },
  {
   "cell_type": "code",
   "execution_count": 15,
   "metadata": {},
   "outputs": [
    {
     "name": "stdout",
     "output_type": "stream",
     "text": [
      "Labels in training dataset:  [0 1 2 3 4 5 6 7 8 9]\n",
      "Frequencies in training dataset:  [195 173 185 208 211 185 214 204 214 211]\n"
     ]
    }
   ],
   "source": [
    "X = X[permutation]\n",
    "y = y[permutation]\n",
    "\n",
    "m_training = 2000 # TODO number of data points, adjust depending on the capabilities of your PC\n",
    "\n",
    "X_train, X_test = X[:m_training], X[m_training:]\n",
    "y_train, y_test = y[:m_training], y[m_training:]\n",
    "\n",
    "labels, freqs = np.unique(y_train, return_counts=True)\n",
    "print(\"Labels in training dataset: \", labels)\n",
    "print(\"Frequencies in training dataset: \", freqs)"
   ]
  },
  {
   "cell_type": "markdown",
   "metadata": {},
   "source": [
    "## TO DO 7\n",
    "\n",
    "Let's try to use SVM with parameters obtained from the best model for $m_{training} =  2000$. Since it may take a long time to run, you can decide to just let it run for some time and stop it if it does not complete. If you decide to do this, report it in the cell below."
   ]
  },
  {
   "cell_type": "code",
   "execution_count": 16,
   "metadata": {
    "scrolled": true
   },
   "outputs": [
    {
     "name": "stdout",
     "output_type": "stream",
     "text": [
      "Best SVM training error: 0.000000\n",
      "Best SVM test error: 0.114586\n"
     ]
    }
   ],
   "source": [
    "#get training and test error for the best SVM model from CV\n",
    "\n",
    "best_SVM = SVC(kernel = \"rbf\", C=10, gamma = 0.01) \n",
    "best_SVM.fit(X_train, y_train)\n",
    "\n",
    "training_error = 1 - best_SVM.score(X_train, y_train)\n",
    "test_error = 1 -best_SVM.score(X_test, y_test)\n",
    "\n",
    "\n",
    "print (\"Best SVM training error: %f\" % training_error)\n",
    "print (\"Best SVM test error: %f\" % test_error)"
   ]
  },
  {
   "cell_type": "markdown",
   "metadata": {},
   "source": [
    "Just for comparison, let's also use logistic regression \n",
    "\n",
    "## TO DO 8 Try first without regularization (use a very large large C)¶"
   ]
  },
  {
   "cell_type": "code",
   "execution_count": 17,
   "metadata": {},
   "outputs": [
    {
     "name": "stdout",
     "output_type": "stream",
     "text": [
      "Best logistic regression training error: 0.000000\n",
      "Best logistic regression test error: 0.275983\n"
     ]
    }
   ],
   "source": [
    "from sklearn import linear_model\n",
    "\n",
    "model = linear_model.LogisticRegression(C = 10**15)\n",
    "model.fit(X_train, y_train)\n",
    "\n",
    "training_error_no_regularization = 1 - model.score(X_train, y_train)\n",
    "test_error_no_regularization = 1 - model.score(X_test, y_test)\n",
    "\n",
    "\n",
    "print (\"Best logistic regression training error: %f\" % training_error_no_regularization)\n",
    "print (\"Best logistic regression test error: %f\" % test_error_no_regularization)"
   ]
  },
  {
   "cell_type": "markdown",
   "metadata": {},
   "source": [
    "## TO DO 9 Try  with regularization (use C=1)¶"
   ]
  },
  {
   "cell_type": "code",
   "execution_count": 18,
   "metadata": {},
   "outputs": [
    {
     "name": "stdout",
     "output_type": "stream",
     "text": [
      "Best regularized logistic regression training error: 0.001000\n",
      "Best regularized logistic regression test error: 0.246948\n"
     ]
    }
   ],
   "source": [
    "model = linear_model.LogisticRegression(C = 1, max_iter=500)\n",
    "model.fit(X_train, y_train)\n",
    "\n",
    "training_error_regularized = 1 - model.score(X_train, y_train)\n",
    "test_error_regularized = 1 - model.score(X_test, y_test)\n",
    "\n",
    "\n",
    "print (\"Best regularized logistic regression training error: %f\" % training_error_regularized)\n",
    "print (\"Best regularized logistic regression test error: %f\" % test_error_regularized)"
   ]
  },
  {
   "cell_type": "markdown",
   "metadata": {},
   "source": [
    "## QUESTION 3\n",
    "Compare and discuss:\n",
    "- the results from SVM with m=600 and with m=2000 training data points. If you stopped the SVM, include such aspect in your comparison.\n",
    "\n",
    "For this comparison I have used the SVM model with the RBF Kernel, $C=10$ and $\\gamma=0.01$ (Whit this parameters I have obtained the best score).\n",
    "There isn't any difference on the training error (both are $0\\%$), but the model trained with 2000 data points returns a better test error ($\\sim 11\\%$) than the one obtained with model trained with 600 samples (($\\sim 17\\%$).\n",
    "\n",
    "\n",
    "- the results of SVM and of Logistic Regression\n",
    "\n",
    "For the Logistic Regression I have taken in consideration the value of $C = 1$.\n",
    "Both the model have achieved a training error of $0\\%$, but looking at the test error we can confirm that the SVM model (test error $\\sim 11\\%$) is much better than the LR model (test error $\\sim 27\\%$)"
   ]
  },
  {
   "cell_type": "markdown",
   "metadata": {},
   "source": [
    "## TO DO 10\n",
    "Plot a letter that is missclassified by logistic regression and correctly classified by SVM."
   ]
  },
  {
   "cell_type": "markdown",
   "metadata": {},
   "source": [
    "I have also plotted an histogram of number of misclassified examples for each target, so that to compare the performances of the two models."
   ]
  },
  {
   "cell_type": "code",
   "execution_count": 19,
   "metadata": {},
   "outputs": [
    {
     "name": "stdout",
     "output_type": "stream",
     "text": [
      "[7 8 1 ... 4 2 4]\n",
      "[7 8 1 ... 9 2 4]\n"
     ]
    }
   ],
   "source": [
    "LR_prediction = model.predict(X_test)\n",
    "SVM_prediction = best_SVM.predict(X_test)\n",
    "\n",
    "print(LR_prediction)\n",
    "print(SVM_prediction)\n",
    "\n",
    "LR_misclassified = []\n",
    "SVM_misclassified = []\n",
    "\n",
    "for i in range(len(SVM_prediction)):\n",
    "    if SVM_prediction[i]!= y_test[i]:\n",
    "        SVM_misclassified.append(SVM_prediction[i])\n",
    "       \n",
    "    \n",
    "for i in range(len(LR_prediction)):\n",
    "    if LR_prediction[i]!= y_test[i]:\n",
    "        LR_misclassified.append(LR_prediction[i])\n",
    "       "
   ]
  },
  {
   "cell_type": "code",
   "execution_count": 20,
   "metadata": {},
   "outputs": [
    {
     "data": {
      "image/png": "[encoded data removed]",
      "text/plain": [
       "<Figure size 432x288 with 1 Axes>"
      ]
     },
     "metadata": {
      "needs_background": "light"
     },
     "output_type": "display_data"
    }
   ],
   "source": [
    "import numpy as np\n",
    "import matplotlib.pyplot as plt\n",
    "plt.style.use('seaborn-deep')\n",
    "\n",
    "\n",
    "\n",
    "plt.hist([LR_misclassified, SVM_misclassified], label=['Logistic Regression', 'SVM'], color= [\"orange\",\"blue\"])\n",
    "plt.xlabel(\"labels\")\n",
    "plt.ylabel(\"misclassifications\")\n",
    "plt.legend(loc='best')\n",
    "plt.show()\n"
   ]
  },
  {
   "cell_type": "markdown",
   "metadata": {},
   "source": [
    "As mentioned before, It's clear that the SVM model is much better than the LR model, in fact, for each label, the LR model returns a bigger number of misclassified examples."
   ]
  },
  {
   "cell_type": "markdown",
   "metadata": {},
   "source": [
    "Here I have plotted  a letter that has been missclassified by logistic regression and correctly classified by SVM."
   ]
  },
  {
   "cell_type": "code",
   "execution_count": 21,
   "metadata": {},
   "outputs": [
    {
     "name": "stdout",
     "output_type": "stream",
     "text": [
      "INPUT:\n"
     ]
    },
    {
     "data": {
      "image/png": "[encoded data removed]",
      "text/plain": [
       "<Figure size 432x288 with 1 Axes>"
      ]
     },
     "metadata": {
      "needs_background": "light"
     },
     "output_type": "display_data"
    },
    {
     "name": "stdout",
     "output_type": "stream",
     "text": [
      "LABEL: 3\n",
      "Wrong LR prediction 7\n",
      "Right SVM prediction 3\n"
     ]
    }
   ],
   "source": [
    "for i in range(len(y_test)):\n",
    "    if(SVM_prediction[i] == y_test[i] and LR_prediction[i] != y_test[i]):\n",
    "        plot_input(X_test, y_test, i)\n",
    "        print(\"Wrong LR prediction\", LR_prediction[i])\n",
    "        print(\"Right SVM prediction\", SVM_prediction[i])\n",
    "        break\n",
    "        \n",
    "        "
   ]
  },
  {
   "cell_type": "markdown",
   "metadata": {},
   "source": [
    "## TO DO 11\n",
    "Plot the confusion matrix for the SVM classifier and for logistic regression.\n",
    "The confusion matrix has one column for each predicted label and one row for each true label. \n",
    "It shows for each class in the corresponding row how many samples belonging to that class gets each possible output label.\n",
    "Notice that the diagonal contains the correctly classified samples, while the other cells correspond to errors.\n",
    "You can obtain it with the sklearn.metrics.confusion_matrix function (see the documentation).\n",
    "Try also to normalize the confusion matrix by the number of samples in each class in order to measure the accuracy on each single class.\n"
   ]
  },
  {
   "cell_type": "code",
   "execution_count": 22,
   "metadata": {},
   "outputs": [
    {
     "name": "stdout",
     "output_type": "stream",
     "text": [
      "Labels and frequencies in test set:  [5805 5827 5815 5792 5789 5815 5786 5796 5786 5789]\n",
      "\n",
      " Confusion matrix SVM  \n",
      " \n",
      " [[5263    3    2   35  147   50   10  170   89   36]\n",
      " [  21 4970   80   73  166    8  147    6  147  209]\n",
      " [   0  142 4755  124   68   25  361   17  218  105]\n",
      " [   6   60   91 5390   51   37   32   22   79   24]\n",
      " [ 149  114  136   48 5006   13   89   41   82  111]\n",
      " [  49   88  116  153   48 5145   62   30   96   28]\n",
      " [   8  147  245   34  187    7 5008   89   36   25]\n",
      " [  24   15   47   80  165    9   38 5326   42   50]\n",
      " [  20  137   67   90   24   45  172   10 5175   46]\n",
      " [  14  104  141   16  107    5   17   15   54 5316]]\n",
      "\n",
      " Confusion matrix SVM (normalized)   \n",
      " \n",
      " [[0.91 0.   0.   0.01 0.03 0.01 0.   0.03 0.02 0.01]\n",
      " [0.   0.85 0.01 0.01 0.03 0.   0.03 0.   0.03 0.04]\n",
      " [0.   0.02 0.82 0.02 0.01 0.   0.06 0.   0.04 0.02]\n",
      " [0.   0.01 0.02 0.93 0.01 0.01 0.01 0.   0.01 0.  ]\n",
      " [0.03 0.02 0.02 0.01 0.86 0.   0.02 0.01 0.01 0.02]\n",
      " [0.01 0.02 0.02 0.03 0.01 0.88 0.01 0.01 0.02 0.  ]\n",
      " [0.   0.03 0.04 0.01 0.03 0.   0.87 0.02 0.01 0.  ]\n",
      " [0.   0.   0.01 0.01 0.03 0.   0.01 0.92 0.01 0.01]\n",
      " [0.   0.02 0.01 0.02 0.   0.01 0.03 0.   0.89 0.01]\n",
      " [0.   0.02 0.02 0.   0.02 0.   0.   0.   0.01 0.92]]\n",
      "\n",
      " Confusion matrix LR  \n",
      " \n",
      " [[4892   16   28   55  187  167   22  247   65  126]\n",
      " [  26 4057  311  118  377   46  324   16  260  292]\n",
      " [   2  354 3496  141  167  160  655   76  464  300]\n",
      " [  26   82  157 4669  140  242   71   89  271   45]\n",
      " [ 187  201  274  123 4110   70  237  127   88  372]\n",
      " [ 122   91  182  260   77 4647  107   79  173   77]\n",
      " [  16  251  454   68  300  105 4202  161  154   75]\n",
      " [  62   51  150  178  141   91   96 4807  109  111]\n",
      " [  46  259  265  200   86  120  298   10 4374  128]\n",
      " [  27  329  399   40  222   28   64   67  190 4423]]\n",
      "\n",
      " Confusion matrix LR (normalized)   \n",
      " \n",
      " [[0.84 0.   0.   0.01 0.03 0.03 0.   0.04 0.01 0.02]\n",
      " [0.   0.7  0.05 0.02 0.06 0.01 0.06 0.   0.04 0.05]\n",
      " [0.   0.06 0.6  0.02 0.03 0.03 0.11 0.01 0.08 0.05]\n",
      " [0.   0.01 0.03 0.81 0.02 0.04 0.01 0.02 0.05 0.01]\n",
      " [0.03 0.03 0.05 0.02 0.71 0.01 0.04 0.02 0.02 0.06]\n",
      " [0.02 0.02 0.03 0.04 0.01 0.8  0.02 0.01 0.03 0.01]\n",
      " [0.   0.04 0.08 0.01 0.05 0.02 0.73 0.03 0.03 0.01]\n",
      " [0.01 0.01 0.03 0.03 0.02 0.02 0.02 0.83 0.02 0.02]\n",
      " [0.01 0.04 0.05 0.03 0.01 0.02 0.05 0.   0.76 0.02]\n",
      " [0.   0.06 0.07 0.01 0.04 0.   0.01 0.01 0.03 0.76]]\n"
     ]
    }
   ],
   "source": [
    "from sklearn.metrics import confusion_matrix\n",
    "from sklearn.metrics import plot_confusion_matrix\n",
    "np.set_printoptions(precision=2, suppress=True) # for better aligned printing of confusion matrix use floatmode='fixed'\n",
    "\n",
    "u, counts = np.unique(y_test, return_counts=True)\n",
    "print(\"Labels and frequencies in test set: \", counts)\n",
    "\n",
    "confusion_SVM = confusion_matrix(y_test, SVM_prediction)\n",
    "print(\"\\n Confusion matrix SVM  \\n \\n\", confusion_SVM)\n",
    "print(\"\\n Confusion matrix SVM (normalized)   \\n \\n\", confusion_SVM /counts[:,None] )\n",
    "\n",
    "confusion_LR = confusion_matrix(y_test, LR_prediction)\n",
    "print(\"\\n Confusion matrix LR  \\n \\n\", confusion_LR)\n",
    "print(\"\\n Confusion matrix LR (normalized)   \\n \\n\", confusion_LR /counts[:,None] )"
   ]
  },
  {
   "cell_type": "code",
   "execution_count": 23,
   "metadata": {},
   "outputs": [],
   "source": [
    "# ADD CODE TO NORMALIZE CONFUSION MATRIX AND PRINT THE NORMALIZED MATRIX\n"
   ]
  },
  {
   "cell_type": "markdown",
   "metadata": {},
   "source": [
    "I also have plotted a \"colorized\" version of the confusion matrix, that shows clearer the performance of the model. "
   ]
  },
  {
   "cell_type": "code",
   "execution_count": 24,
   "metadata": {},
   "outputs": [
    {
     "data": {
      "image/png": "[encoded data removed]",
      "text/plain": [
       "<Figure size 432x288 with 2 Axes>"
      ]
     },
     "metadata": {
      "needs_background": "light"
     },
     "output_type": "display_data"
    }
   ],
   "source": [
    "plot_confusion_matrix(best_SVM, X_test, y_test)\n",
    "plt.title(\"SVM CONFUSION MATRIX\")\n",
    "plt.show()"
   ]
  },
  {
   "cell_type": "code",
   "execution_count": 25,
   "metadata": {},
   "outputs": [
    {
     "data": {
      "image/png": "[encoded data removed]",
      "text/plain": [
       "<Figure size 432x288 with 2 Axes>"
      ]
     },
     "metadata": {
      "needs_background": "light"
     },
     "output_type": "display_data"
    }
   ],
   "source": [
    "plot_confusion_matrix(model, X_test, y_test)\n",
    "plt.title(\"LR CONFUSION MATRIX\")\n",
    "plt.show()"
   ]
  },
  {
   "cell_type": "markdown",
   "metadata": {},
   "source": [
    "## QUESTION 4\n",
    "Have a look at the confusion matrices and comment on the obtained accuracies. Why some classes have lower accuracies and others an higher one ? Make some guesses on the possible causes.\n"
   ]
  },
  {
   "cell_type": "markdown",
   "metadata": {},
   "source": [
    "It's easy to notice that both models performs better on some classes, and worse on others, for example:\n",
    "\n",
    "The SVM model has never misclassifed the CLASS $2$ as the CLASS $0$ (Insted, on these same example, the LR model has misclassified $2$ times)\n",
    "\n",
    "The SVM model $8$ times has classifed the CLASS $6$ as the CLASS $0$ (Insted, on these same example, the LR model has misclassified $16$ times)\n",
    "\n",
    "\n",
    "The SVM model $209$ times has classifed the CLASS $1$ as the CLASS $9$ (On these same example the LR model has misclassified $209$ times)\n",
    "\n",
    "The SVM model $245$ times has classifed the CLASS $6$ as the CLASS $2$ (On these same example the LR model has misclassified $454$ times)\n",
    "\n",
    "\n",
    "Mybe the images related to this two last samples are very similar, or maybe they are too much complicated for the SVM model (a better solution could be obtained with a Convolutional Neural Network)"
   ]
  },
  {
   "cell_type": "markdown",
   "metadata": {},
   "source": [
    "### Here I have implemented a 3 degree polynomial kernel with more training samples. "
   ]
  },
  {
   "cell_type": "code",
   "execution_count": 26,
   "metadata": {},
   "outputs": [
    {
     "name": "stdout",
     "output_type": "stream",
     "text": [
      "RESULTS FOR POLY DEGREE= 3  KERNEL\n",
      "Best parameters set found:\n",
      "{'C': 0.01, 'gamma': 0.1}\n",
      "\n",
      "\n",
      "Score with best parameters:\n",
      "0.8791666666666668\n",
      "\n",
      "\n",
      "All scores on the grid:\n",
      "[0.47 0.88 0.87 0.79 0.87 0.87 0.87 0.87 0.87]\n",
      "\n",
      "\n"
     ]
    }
   ],
   "source": [
    "m_training = 6000\n",
    "m_test = 4000\n",
    "\n",
    "X_train, X_test = X[:m_training], X[m_training:m_training+m_test:]\n",
    "y_train, y_test = y[:m_training], y[m_training:m_training+m_test:]\n",
    "\n",
    "\n",
    "# parameters for poly with higher degree kernel\n",
    "parameters = {'C': [0.01, 0.1, 1],'gamma':[0.01,0.1,1]}\n",
    "\n",
    "#run SVM with poly of higher degree kernel\n",
    "degree = 3\n",
    "\n",
    "grid = GridSearchCV(SVC(kernel = \"poly\", degree=3), parameters, cv=4)\n",
    "grid.fit(X_train, y_train)\n",
    "\n",
    "print ('RESULTS FOR POLY DEGREE=', degree, ' KERNEL')\n",
    "\n",
    "print(\"Best parameters set found:\")\n",
    "print(grid.best_params_)\n",
    "print(\"\\n\")\n",
    "\n",
    "print(\"Score with best parameters:\")\n",
    "print(grid.best_score_)\n",
    "print(\"\\n\")\n",
    "\n",
    "print(\"All scores on the grid:\")\n",
    "print(grid.cv_results_[\"mean_test_score\"])\n",
    "print(\"\\n\")"
   ]
  }
 ],
 "metadata": {
  "kernelspec": {
   "display_name": "Python 3",
   "language": "python",
   "name": "python3"
  },
  "language_info": {
   "codemirror_mode": {
    "name": "ipython",
    "version": 3
   },
   "file_extension": ".py",
   "mimetype": "text/x-python",
   "name": "python",
   "nbconvert_exporter": "python",
   "pygments_lexer": "ipython3",
   "version": "3.8.8"
  }
 },
 "nbformat": 4,
 "nbformat_minor": 4
}
