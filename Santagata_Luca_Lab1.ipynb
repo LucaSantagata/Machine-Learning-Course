{
 "cells": [
  {
   "cell_type": "markdown",
   "metadata": {},
   "source": [
    " # Machine Learning LAB 1\n",
    " Academic Year 2021/22, P. Zanuttigh, U. Michieli, F. Barbato, D. Shenaj, G. Rizzoli\n",
    "\n",
    "The notebook contains some simple tasks to be performed about classification and regression. Complete **all** the required code sections and answer to **all** the questions."
   ]
  },
  {
   "cell_type": "markdown",
   "metadata": {},
   "source": [
    "### IMPORTANT 1: make sure to rerun all the code from the beginning to obtain the results for the final version of your notebook, since this is the way we will do it before evaluating your notebook!\n"
   ]
  },
  {
   "cell_type": "markdown",
   "metadata": {},
   "source": [
    "### IMPORTANT 2: Place your name and ID number. Also recall to save the file as Surname_Name_LAB1.ipynb . Notebooks without name will be discarded.\n",
    "\n",
    "**Student name**: mario rossi<br>\n",
    "**ID Number**: 1234567"
   ]
  },
  {
   "cell_type": "markdown",
   "metadata": {},
   "source": [
    "\n",
    "# 1) Classification of Music genre\n",
    "\n",
    "### Dataset description\n",
    "\n",
    "A music genre is a conventional category that identifies pieces of music as belonging to a shared tradition or set of conventions. It is to be distinguished from musical form and musical style. The features extracted from these songs can help the machine to assing them to the two genres. \n",
    "\n",
    "This dataset is a subset of the dataset provided [here](https://www.kaggle.com/insiyeah/musicfeatures), containing only the data regarding the classical and metal genres.\n",
    "\n",
    "### We consider 3 features for the classification\n",
    "\n",
    "1) **tempo**, the speed at which a passage of music is played, i.e., the beats per minute of the musical piece<br>\n",
    "2) **chroma_stft**, [mean chromagram activation on Short-Time Fourier Transform](https://librosa.org/doc/0.7.0/generated/librosa.feature.chroma_stft.html)<br>\n",
    "3) **spectral_centroid**, Indicates where the \"center of mass\" of the spectrum is located, i.e., it is the weighted average of the frequency transform<br>\n"
   ]
  },
  {
   "cell_type": "markdown",
   "metadata": {},
   "source": [
    "We first import all the packages that are needed."
   ]
  },
  {
   "cell_type": "code",
   "execution_count": 1,
   "metadata": {},
   "outputs": [],
   "source": [
    "%matplotlib inline\n",
    "import matplotlib.pyplot as plt\n",
    "import csv\n",
    "\n",
    "import numpy as np\n",
    "import scipy as sp\n",
    "import sklearn as sl\n",
    "from scipy import stats\n",
    "from sklearn import datasets\n",
    "from sklearn import linear_model"
   ]
  },
  {
   "cell_type": "markdown",
   "metadata": {},
   "source": [
    "# Perceptron\n",
    "Firstly we will implement the perceptron algorithm and use it to learn a halfspace."
   ]
  },
  {
   "cell_type": "markdown",
   "metadata": {},
   "source": [
    "**TO DO** Set the random seed, you can use your ID (matricola) or any other number! Try to make various tests changing the seed."
   ]
  },
  {
   "cell_type": "code",
   "execution_count": 2,
   "metadata": {},
   "outputs": [],
   "source": [
    "IDnumber = 5389267  #YOUR_ID , try also to change the seed to see the impact of random initialization on the results\n",
    "np.random.seed(IDnumber)"
   ]
  },
  {
   "cell_type": "markdown",
   "metadata": {},
   "source": [
    "Load the dataset and then split in training set and test set (the training set is typically larger, you can use a 75% tranining 25% test split) after applying a random permutation to the datset."
   ]
  },
  {
   "cell_type": "markdown",
   "metadata": {},
   "source": [
    "A) Load dataset and perform permutation"
   ]
  },
  {
   "cell_type": "code",
   "execution_count": 3,
   "metadata": {},
   "outputs": [
    {
     "name": "stdout",
     "output_type": "stream",
     "text": [
      "Header: ['tempo', 'chroma_stft', 'spectral_centroid', 'label']\n",
      "\n",
      "Data shape: (200, 4)\n",
      "\n",
      "Dataset Example:\n",
      "[['92.28515625' '0.22373830597598895' '2192.798091164326' '0']\n",
      " ['161.4990234375' '0.2841730455239421' '1534.0649775815205' '0']\n",
      " ['143.5546875' '0.20811288763962318' '1396.8242648287155' '0']\n",
      " ['95.703125' '0.31289954089595506' '1680.0882644413368' '0']\n",
      " ['123.046875' '0.25857228884109024' '1173.6583080518985' '0']\n",
      " ['67.99958881578948' '0.22521197942744986' '715.1893204778178' '0']\n",
      " ['95.703125' '0.2840176228179304' '1184.632142061296' '0']\n",
      " ['89.10290948275862' '0.2563949682674902' '1358.897902739857' '0']\n",
      " ['99.38401442307692' '0.2614892978768399' '1372.8258066922585' '0']\n",
      " ['184.5703125' '0.2899787266101455' '1953.0485341566464' '0']]\n",
      "\n",
      "Number of samples loaded: 200\n"
     ]
    }
   ],
   "source": [
    "# Load the dataset\n",
    "filename = 'data/music.csv'\n",
    "music = csv.reader(open(filename, newline='\\n'), delimiter=',') #leggiamo il file\n",
    "\n",
    "header = next(music) # skip first line\n",
    "print(f\"Header: {header}\\n\")\n",
    "\n",
    "dataset = np.array(list(music))\n",
    "print(f\"Data shape: {dataset.shape}\\n\")\n",
    "print(\"Dataset Example:\")\n",
    "print(dataset[:10,...])\n",
    "\n",
    "X = dataset[:,:-1].astype(float) #columns 0,1,2 contain the features (prendiamo tutte le righe, e tutte le colonne tranne l'ultima)\n",
    "Y = dataset[:,-1].astype(int)    # last column contains the labels (prendimo tutte le righe e solo l'ultima colonna)\n",
    "\n",
    "Y = 2*Y-1                        # for the perceptron classical--> -1, metal-->1\n",
    "\n",
    "m = dataset.shape[0] #restituisce il numero di righe, ossia il numero di samples\n",
    "print(\"\\nNumber of samples loaded:\", m)\n",
    "permutation =np.random.permutation(m) # random permutation\n",
    "\n",
    "X = X[permutation]\n",
    "Y = Y[permutation]\n"
   ]
  },
  {
   "cell_type": "markdown",
   "metadata": {},
   "source": [
    "We are going to classify class \"1\" (metal) vs class \"-1\" (classical)"
   ]
  },
  {
   "cell_type": "markdown",
   "metadata": {},
   "source": [
    "B) **TO DO** Divide the data into training set and test set (75% of the data in the first set, 25% in the second one)"
   ]
  },
  {
   "cell_type": "code",
   "execution_count": 4,
   "metadata": {},
   "outputs": [
    {
     "name": "stdout",
     "output_type": "stream",
     "text": [
      "[ 1 -1  1 -1 -1 -1 -1  1  1  1 -1  1  1 -1 -1 -1  1  1  1 -1  1  1  1 -1\n",
      " -1 -1 -1 -1  1  1 -1  1 -1 -1  1 -1 -1  1  1  1 -1 -1  1 -1  1 -1 -1 -1\n",
      " -1  1  1 -1 -1 -1 -1  1 -1 -1 -1  1 -1 -1 -1 -1 -1 -1  1  1 -1  1 -1 -1\n",
      "  1  1 -1 -1 -1  1  1 -1  1  1  1 -1  1 -1  1 -1  1 -1 -1 -1 -1 -1  1 -1\n",
      " -1  1  1 -1 -1  1 -1  1  1 -1  1  1 -1 -1 -1  1  1  1  1  1  1  1  1  1\n",
      "  1  1 -1 -1  1  1 -1  1  1  1 -1 -1  1 -1 -1  1 -1 -1 -1  1  1  1 -1  1\n",
      "  1 -1  1  1 -1  1]\n",
      "\n",
      "Number of samples in the test set:  50\n",
      "\n",
      "Number of classical instances in test: 23\n",
      "Number of metal instances in test: 27\n",
      "Shape of training set: (150, 3)\n",
      "Shape of test set: (50, 3)\n"
     ]
    }
   ],
   "source": [
    "# Divide in training and test: make sure that your training set\n",
    "# contains at least 10 elements from class 1 and at least 10 elements\n",
    "# from class -1! If it does not, modify the code so to apply more random\n",
    "# permutations (or the same permutation multiple times) until this happens.\n",
    "# IMPORTANT: do not change the random seed.\n",
    "\n",
    "\n",
    "# m_training needs to be the number of samples in the test set\n",
    "m_training = int((75/100)*m)\n",
    "\n",
    "\n",
    "# m_test needs to be the number of samples in the test set\n",
    "m_test = int((25/100)*m)\n",
    "\n",
    "# X_training = instances for training set\n",
    "X_training = X[0:m_training,:]\n",
    "#Y_training = labels for the training set\n",
    "Y_training = Y[0:m_training]\n",
    "\n",
    "# X_test = instances for test set\n",
    "X_test = X[m_training:m,:]\n",
    "# Y_test = labels for the test set\n",
    "Y_test = Y[m_training:m]\n",
    "\n",
    "print(Y_training) # to make sure that Y_training contains both 1 and -1\n",
    "print(\"\\nNumber of samples in the test set: \",m_test)\n",
    "\n",
    "print(\"\\nNumber of classical instances in test:\", np.sum(Y_test==-1)) #sommo tutti gli elementi per cui il label è -1\n",
    "print(\"Number of metal instances in test:\", np.sum(Y_test==1)) ##sommo tutti gli elementi per cui il label è +1\n",
    "\n",
    "print(\"Shape of training set: \" + str(X_training.shape))\n",
    "print(\"Shape of test set: \" + str(X_test.shape))"
   ]
  },
  {
   "cell_type": "markdown",
   "metadata": {},
   "source": [
    "We add a 1 in front of each sample so that we can use a vector in homogeneous coordinates to describe all the coefficients of the model. This can be done with the function $hstack$ in $numpy$."
   ]
  },
  {
   "cell_type": "code",
   "execution_count": 5,
   "metadata": {},
   "outputs": [
    {
     "name": "stdout",
     "output_type": "stream",
     "text": [
      "Training set in homogeneous coordinates:\n",
      "[[1.00000000e+00 1.43554688e+02 4.29968281e-01 2.64194366e+03]\n",
      " [1.00000000e+00 1.35999178e+02 1.87032426e-01 7.94918486e+02]\n",
      " [1.00000000e+00 1.35999178e+02 4.65477533e-01 2.38467428e+03]\n",
      " [1.00000000e+00 1.23046875e+02 2.68212987e-01 1.32925189e+03]\n",
      " [1.00000000e+00 9.57031250e+01 1.81161139e-01 1.80746118e+03]\n",
      " [1.00000000e+00 1.35999178e+02 3.81394246e-01 1.52762982e+03]\n",
      " [1.00000000e+00 9.57031250e+01 3.19468121e-01 1.71244608e+03]\n",
      " [1.00000000e+00 9.22851562e+01 5.02055322e-01 2.74339281e+03]\n",
      " [1.00000000e+00 1.07666016e+02 5.09240208e-01 2.70968208e+03]\n",
      " [1.00000000e+00 1.35999178e+02 4.69079028e-01 2.25428142e+03]]\n"
     ]
    }
   ],
   "source": [
    "# Add a 1 to each sample (homogeneous coordinates) #aggiungiamo le coordinate omogenee agli array X delle features\n",
    "X_training = np.hstack((np.ones((m_training,1)),X_training))\n",
    "X_test = np.hstack((np.ones((m_test,1)),X_test))\n",
    "\n",
    "print(\"Training set in homogeneous coordinates:\")\n",
    "print(X_training[:10])"
   ]
  },
  {
   "cell_type": "markdown",
   "metadata": {},
   "source": [
    "**TO DO** Now complete the function *perceptron*. Since the perceptron does not terminate if the data is not linearly separable, your implementation should return the desired output (see below) if it reached the termination condition seen in class or if a maximum number of iterations have already been run, where one iteration corresponds to one update of the perceptron weights. In case the termination is reached because the maximum number of iterations have been completed, the implementation should return **the best model** seen up to now.\n",
    "\n",
    "The input parameters to pass are:\n",
    "- $X$: the matrix of input features, one row for each sample\n",
    "- $Y$: the vector of labels for the input features matrix X\n",
    "- $max\\_num\\_iterations$: the maximum number of iterations for running the perceptron\n",
    "\n",
    "The output values are:\n",
    "- $best\\_w$: the vector with the coefficients of the best model\n",
    "- $best\\_error$: the *fraction* of misclassified samples for the best model"
   ]
  },
  {
   "cell_type": "code",
   "execution_count": 6,
   "metadata": {},
   "outputs": [],
   "source": [
    "def perceptron_update(current_w, x, y, lr):\n",
    "    new_w = current_w + lr*y*x\n",
    "    return new_w\n",
    "\n",
    "def perceptron(X, Y, lr, max_num_iterations):\n",
    "    # Place in this function the main section of the perceptron algorithm\n",
    "    \n",
    "    #init the algorith with w=0, use a best_w variable to keep track of the best solution\n",
    "    curr_w = np.zeros(X.shape[1]) #tanti pesi quante sono le features, ossia X.shape[1]\n",
    "    best_w = np.zeros(X.shape[1])\n",
    "    num_samples = 150\n",
    "    best_error = 1\n",
    "    \n",
    "    index_misclassified = 0 \n",
    "    num_misclassified = 0 \n",
    "    \n",
    "    \n",
    "    #main loop continue until all samples correctly classified or max # iterations reached\n",
    "    num_iter = 1\n",
    "    \n",
    "    while ((index_misclassified != -1) and (num_iter < max_num_iterations)):\n",
    "        \n",
    "        index_misclassified = -1\n",
    "        num_misclassified = 0\n",
    "        \n",
    "        # avoid working always on the same sample, you can use a random permutation or randomize the choice of misclassified\n",
    "        \n",
    "        \n",
    "        permutation = np.random.permutation(num_samples) \n",
    "        X = X[permutation]\n",
    "        Y = Y[permutation]\n",
    "        \n",
    "        l = []\n",
    "        number_of_misclassifications = []\n",
    "        for i in range(num_samples):  #valuto la classificazione di tutti i samples \n",
    "\n",
    "            #check if the i-th randomly selected sample is misclassified (nel caso in cui la classificazione sia errata, aggiungo l'indice alla lista l)\n",
    "            if Y[i]*(X[i].dot(curr_w)) <= 0:\n",
    "                l.append(i)\n",
    "                num_misclassified += 1 #aggiorno il numero di esempi non correttamente classificati\n",
    "    \n",
    "                \n",
    "            # store the number of randomly classified samples and the index of at least one of them\n",
    "           \n",
    "            \n",
    "        error = num_misclassified/num_samples  #dopo aver valutato tutti gli individui, calcolo l'errore\n",
    "        number_of_misclassifications.append(num_misclassified)\n",
    "        \n",
    "            \n",
    "        #keep track of best solution\n",
    "        if error < best_error:\n",
    "            best_error = error\n",
    "            best_w = curr_w\n",
    "        \n",
    "        \n",
    "        if num_misclassified != 0:  #nel caso in cui ci siano esempi non classificati correttamente, eseguo un update\n",
    "            index_misclassified = l[np.random.randint(0,len(l))] #scelgo casualmente l'indice dell'esempio non correttamente classificato\n",
    "            \n",
    "        num_iter += 1 #aggiorno il numero di iterazioni\n",
    "        \n",
    "        #call update function using a misclassifed sample\n",
    "        curr_w = perceptron_update(curr_w, X[index_misclassified], Y[index_misclassified],lr) #aggiorno i pesi\n",
    "        \n",
    "    \n",
    "    return best_w, best_error, number_of_misclassifications"
   ]
  },
  {
   "cell_type": "markdown",
   "metadata": {},
   "source": [
    "Now we use the implementation above of the perceptron to learn a model from the training data using 100 iterations and print the error of the best model we have found."
   ]
  },
  {
   "cell_type": "code",
   "execution_count": 7,
   "metadata": {},
   "outputs": [
    {
     "name": "stdout",
     "output_type": "stream",
     "text": [
      "Best error:  0.1 \n",
      "\n",
      "Best weights:  [-1.30000000e+00 -2.15864309e+02 -6.20549726e-02  1.50129482e+01] \n",
      "\n"
     ]
    }
   ],
   "source": [
    "p = perceptron(X_training, Y_training, 0.1, 100)\n",
    "\n",
    "print(\"Best error: \",round(p[1],3),\"\\n\")\n",
    "print(\"Best weights: \",p[0],\"\\n\")\n",
    "\n"
   ]
  },
  {
   "cell_type": "markdown",
   "metadata": {},
   "source": [
    "**TO DO** use the best model $w\\_found$ to predict the labels for the test dataset and print the fraction of misclassified samples in the test set (the test error that is an estimate of the true loss)."
   ]
  },
  {
   "cell_type": "code",
   "execution_count": 8,
   "metadata": {},
   "outputs": [
    {
     "name": "stdout",
     "output_type": "stream",
     "text": [
      "Test Error of perpceptron (100 iterations):  0.28\n"
     ]
    }
   ],
   "source": [
    "#now use the w_found to make predictions on test dataset\n",
    "\n",
    "def step_func(z):\n",
    "    return 1.0 if (z > 0) else -1.0\n",
    "\n",
    "num_errors = 0\n",
    "\n",
    "for i in range(m_test):\n",
    "    if Y_test[i] !=  step_func(np.dot(X_test[i],p[0])):\n",
    "        num_errors +=1\n",
    "                                \n",
    "    \n",
    "\n",
    "true_loss_estimate = num_errors/m_test  # error rate on the test set\n",
    "#NOTE: you can avoid using num_errors if you prefer, as long as true_loss_estimate is correct\n",
    "print(\"Test Error of perpceptron (100 iterations): \", round(true_loss_estimate,3))"
   ]
  },
  {
   "cell_type": "markdown",
   "metadata": {},
   "source": [
    "**TO DO** **[Answer the following]** What about the difference betweeen the training error and the test error  in terms of fraction of misclassified samples)? Explain what you observe. [Write the answer in this cell]\n",
    "\n",
    "**ANSWER QUESTION 1**  The error on the test set is higher than the error on the training set (which has been calculated in the previous as \"best error\") . I have repeted the test several times, and I have noticed that, after 100 iterations, the test error value is between 2.7 and 2.9 times higher than the training error.  "
   ]
  },
  {
   "cell_type": "markdown",
   "metadata": {},
   "source": [
    " **TO DO** Copy the code from the last 2 cells above in the cell below and repeat the training with 4000 iterations. Then print the error in the training set and the estimate of the true loss obtained from the test set."
   ]
  },
  {
   "cell_type": "code",
   "execution_count": 9,
   "metadata": {
    "scrolled": true
   },
   "outputs": [
    {
     "name": "stdout",
     "output_type": "stream",
     "text": [
      "Training Error of perpceptron (4000 iterations): 0.08\n",
      "Test Error of perpceptron (4000 iterations): 0.22\n"
     ]
    }
   ],
   "source": [
    "#now run the perceptron for 3000 iterations here!\n",
    "\n",
    "p2 = perceptron(X_training, Y_training, 0.1, 4000)\n",
    "\n",
    "print(\"Training Error of perpceptron (4000 iterations): \" + str(round(p2[1],3)))\n",
    "\n",
    "\n",
    "num_errors2 = 0\n",
    "for i in range(m_test):\n",
    "    if Y_test[i] !=  step_func(np.dot(X_test[i],p2[0])):\n",
    "        num_errors2 +=1\n",
    "                                \n",
    "    \n",
    "true_loss_estimate2 = num_errors2/m_test  # error rate on the test set\n",
    "print(\"Test Error of perpceptron (4000 iterations): \" + str(true_loss_estimate2))"
   ]
  },
  {
   "cell_type": "markdown",
   "metadata": {},
   "source": [
    "**TO DO** [Answer the following] What about the difference betweeen the training error and the test error  in terms of fraction of misclassified samples) when running for a larger number of iterations ? Explain what you observe and compare with the previous case. [Write the answer in this cell]\n",
    "\n",
    "**ANSWER QUESTION 2** Implementing 4000 iterations the training error and the test error have decreased, whereas their ratio hasn't decreased.       \n",
    "I expected this result, in fact implementing an higher number of iterations, the perceptron has more possibilities to improve.\n"
   ]
  },
  {
   "cell_type": "markdown",
   "metadata": {},
   "source": [
    "# Logistic Regression\n",
    "Now we use logistic regression, exploiting the implementation in Scikit-learn, to predict labels. We will also plot the decision region of logistic regression.\n",
    "\n",
    "We first load the dataset again."
   ]
  },
  {
   "cell_type": "code",
   "execution_count": 10,
   "metadata": {},
   "outputs": [
    {
     "name": "stdout",
     "output_type": "stream",
     "text": [
      "Header: ['tempo', 'chroma_stft', 'spectral_centroid', 'label']\n",
      "\n",
      "Data shape: (200, 4)\n",
      "\n",
      "Dataset Example:\n",
      "[['92.28515625' '0.22373830597598895' '2192.798091164326' '0']\n",
      " ['161.4990234375' '0.2841730455239421' '1534.0649775815205' '0']\n",
      " ['143.5546875' '0.20811288763962318' '1396.8242648287155' '0']\n",
      " ['95.703125' '0.31289954089595506' '1680.0882644413368' '0']\n",
      " ['123.046875' '0.25857228884109024' '1173.6583080518985' '0']\n",
      " ['67.99958881578948' '0.22521197942744986' '715.1893204778178' '0']\n",
      " ['95.703125' '0.2840176228179304' '1184.632142061296' '0']\n",
      " ['89.10290948275862' '0.2563949682674902' '1358.897902739857' '0']\n",
      " ['99.38401442307692' '0.2614892978768399' '1372.8258066922585' '0']\n",
      " ['184.5703125' '0.2899787266101455' '1953.0485341566464' '0']]\n",
      "\n",
      "Number of samples loaded: 200\n"
     ]
    }
   ],
   "source": [
    "# Load the dataset\n",
    "filename = 'data/music.csv'\n",
    "music = csv.reader(open(filename, newline='\\n'), delimiter=',')\n",
    "\n",
    "header = next(music) # skip first line\n",
    "print(f\"Header: {header}\\n\")\n",
    "\n",
    "dataset = np.array(list(music))\n",
    "print(f\"Data shape: {dataset.shape}\\n\")\n",
    "print(\"Dataset Example:\")\n",
    "print(dataset[:10,...])\n",
    "\n",
    "X = dataset[:,:-1].astype(float) # columns 0,1,2 contain the features\n",
    "Y = dataset[:,-1].astype(int)    # last column contains the labels\n",
    "\n",
    "\n",
    "Y = 2*Y-1                    # for the perceprton classical--> -1, metal-->1 #in questo modo i label non sono più 0/1 ma -1/1\n",
    "m = dataset.shape[0]\n",
    "print(\"\\nNumber of samples loaded:\", m)\n",
    "permutation = np.random.permutation(m) # random permutation\n",
    "\n",
    "#eseguiamo uno shuffledei label\n",
    "X = X[permutation]\n",
    "Y = Y[permutation]\n",
    "\n"
   ]
  },
  {
   "cell_type": "markdown",
   "metadata": {},
   "source": [
    "**TO DO** As for the previous part, divide the data into training and test (75%-25%) and add a 1 as first component to each sample."
   ]
  },
  {
   "cell_type": "code",
   "execution_count": 11,
   "metadata": {},
   "outputs": [
    {
     "name": "stdout",
     "output_type": "stream",
     "text": [
      "Number of samples in the training set: 150\n",
      "Number of samples in the test set: 50\n",
      "\n",
      "Number of classical instances in test: 24\n",
      "Number of metal instances in test: 26\n",
      "\n",
      "Shape of training set: (150, 3)\n",
      "Shape of test set: (50, 3)\n"
     ]
    }
   ],
   "source": [
    "#Divide in training and test: make sure that your training set\n",
    "#contains at least 10 elements from class 1 and at least 10 elements\n",
    "#from class -1! If it does not, modify the code so to apply more random\n",
    "#permutations (or the same permutation multiple times) until this happens.\n",
    "#IMPORTANT: do not change the random seed.\n",
    "\n",
    "m_training = int((75/100)*m)\n",
    "m_test =  int((25/100)*m)\n",
    "\n",
    "# X_training = instances for training set\n",
    "X_training = X[0:m_training,:]\n",
    "#Y_training = labels for the training set\n",
    "Y_training = Y[0:m_training]\n",
    "\n",
    "# X_test = instances for test set\n",
    "X_test = X[m_training:m,:]\n",
    "# Y_test = labels for the test set\n",
    "Y_test = Y[m_training:m]\n",
    "\n",
    "print(\"Number of samples in the training set:\", m_training)\n",
    "print(\"Number of samples in the test set:\", m_test)\n",
    "print(\"\\nNumber of classical instances in test:\", np.sum(Y_test==-1))\n",
    "print(\"Number of metal instances in test:\", np.sum(Y_test==1))\n",
    "\n",
    "print(\"\\nShape of training set: \" + str(X_training.shape))\n",
    "print(\"Shape of test set: \" + str(X_test.shape))"
   ]
  },
  {
   "cell_type": "markdown",
   "metadata": {},
   "source": [
    "To define a logistic regression model in Scikit-learn use the instruction\n",
    "\n",
    "$linear\\_model.LogisticRegression(C=1e5)$\n",
    "\n",
    "($C$ is a parameter related to *regularization*, a technique that\n",
    "we will see later in the course. Setting it to a high value is almost\n",
    "as ignoring regularization, so the instruction above corresponds to the\n",
    "logistic regression you have seen in class.)\n",
    "\n",
    "To learn the model you need to use the $fit(...)$ instruction and to predict you need to use the $predict(...)$ function. See the Scikit-learn documentation for how to use it.\n",
    "\n",
    "**TO DO** Define the logistic regression model, then learn the model using the training set and predict on the test set. Then print the fraction of samples misclassified in the training set and in the test set."
   ]
  },
  {
   "cell_type": "code",
   "execution_count": 12,
   "metadata": {},
   "outputs": [
    {
     "name": "stdout",
     "output_type": "stream",
     "text": [
      "Error rate on training set: 0.006666666666666667\n",
      "Error rate on test set: 0.0\n"
     ]
    }
   ],
   "source": [
    "#part on logistic regression for 2 classes\n",
    "logreg = linear_model.LogisticRegression(C=1e5) #a large C disables regularization\n",
    "\n",
    "#learn from training set\n",
    "logreg.fit(X_training, Y_training)\n",
    "\n",
    "\n",
    "#predict on training set\n",
    "y_pred_training = logreg.predict(X_training)\n",
    "\n",
    "#print the error rate = fraction of misclassified samples\n",
    "error_rate_training = 0\n",
    "\n",
    "for i in range(m_training):\n",
    "    if y_pred_training[i] != Y_training[i]:\n",
    "        error_rate_training += 1\n",
    "        \n",
    "error_rate_training = error_rate_training/m_training\n",
    "print(\"Error rate on training set: \"+str(error_rate_training))\n",
    "\n",
    "\n",
    "#############################################################\n",
    "\n",
    "#predict on test set\n",
    "y_pred_test = logreg.predict(X_test)\n",
    "\n",
    "#print the error rate = fraction of misclassified samples\n",
    "error_rate_test = 0\n",
    "\n",
    "for i in range(m_test):\n",
    "    if y_pred_test[i] != Y_test[i]:\n",
    "        error_rate_test += 1\n",
    "        \n",
    "error_rate_test = error_rate_test/m_test\n",
    "print(\"Error rate on test set: \" + str(error_rate_test))"
   ]
  },
  {
   "cell_type": "markdown",
   "metadata": {},
   "source": [
    "**TO DO** Now pick two features and restrict the dataset to include only two features, whose indices are specified in the $feature$ vector below. Then split into training and test. Which features are you going to select ?"
   ]
  },
  {
   "cell_type": "code",
   "execution_count": 13,
   "metadata": {},
   "outputs": [],
   "source": [
    "# to make the plot we need to reduce the data to 2D, so we choose two features\n",
    "features_list = ['tempo', 'chroma_stft', 'spectral_centroid']"
   ]
  },
  {
   "cell_type": "markdown",
   "metadata": {},
   "source": [
    "### tempo & chroma_stft"
   ]
  },
  {
   "cell_type": "code",
   "execution_count": 14,
   "metadata": {},
   "outputs": [
    {
     "name": "stdout",
     "output_type": "stream",
     "text": [
      "Choosed Features:  tempo , chroma_stft\n"
     ]
    }
   ],
   "source": [
    "index_feature1 = 0\n",
    "index_feature2 = 1\n",
    "features = [index_feature1, index_feature2]\n",
    "\n",
    "\n",
    "#consideriamo solo le features di \"features_list\" che ci interessano\n",
    "feature_name0 = features_list[features[0]]\n",
    "feature_name1 = features_list[features[1]]\n",
    "\n",
    "print(\"Choosed Features: \",feature_name0,\",\",feature_name1)\n",
    "\n",
    "#print(feature_name0)\n",
    "#print(feature_name1)\n",
    "\n",
    "\n",
    "X_reduced1 = X[:,features] #tutte le righe e solo le colonne selezionate\n",
    "\n",
    "#Y = dataset[:,-1].astype(int)   # last column contains the labels\n",
    "#Y = 2*Y-1 #trasformo i label in 1 e -1\n",
    "\n",
    "\n",
    "m_training = int((75/100)*m)\n",
    "m_test =  int((25/100)*m)\n",
    "\n",
    "\n",
    "# X_training = instances for training set\n",
    "X_training1 = X_reduced1[0:m_training,:]\n",
    "#Y_training = labels for the training set\n",
    "#Y_training = Y[0:m_training]\n",
    "\n",
    "# X_test = instances for test set\n",
    "X_test1 = X_reduced1[m_training:m,:]\n",
    "# Y_test = labels for the test set\n",
    "#Y_test = Y[m_training:m]\n"
   ]
  },
  {
   "cell_type": "markdown",
   "metadata": {},
   "source": [
    "Now learn a model using the training data and measure the performances."
   ]
  },
  {
   "cell_type": "code",
   "execution_count": 15,
   "metadata": {},
   "outputs": [
    {
     "name": "stdout",
     "output_type": "stream",
     "text": [
      "Error rate on test set: 0.06\n"
     ]
    }
   ],
   "source": [
    "# learning from training data\n",
    "logreg.fit(X_training1, Y_training)\n",
    "\n",
    "#print the error rate = fraction of misclassified samples\n",
    "y_pred1 = logreg.predict(X_test1)\n",
    "\n",
    "error_rate_test1 = 0\n",
    "for i in range(m_test):\n",
    "    if y_pred1[i] != Y_test[i]:\n",
    "        error_rate_test1 += 1\n",
    "        \n",
    "error_rate_test1 = error_rate_test1/m_test\n",
    "\n",
    "\n",
    "print(\"Error rate on test set: \" + str(error_rate_test1))"
   ]
  },
  {
   "cell_type": "markdown",
   "metadata": {},
   "source": [
    "### tempo & spectral_centroid"
   ]
  },
  {
   "cell_type": "code",
   "execution_count": 16,
   "metadata": {},
   "outputs": [],
   "source": [
    "index_feature1 = 0\n",
    "index_feature2 = 2\n",
    "features = [index_feature1, index_feature2]\n",
    "\n",
    "#consideriamo solo le features di \"features_list\" che ci interessano\n",
    "feature_name0 = features_list[features[0]]\n",
    "feature_name1 = features_list[features[1]]\n",
    "\n",
    "\n",
    "X_reduced2 = X[:,features] #tutte le righe e solo le colonne selezionate\n",
    "\n",
    "#Y = dataset[:,-1].astype(int)   # last column contains the labels\n",
    "#Y = 2*Y-1\n",
    "\n",
    "\n",
    "#m_training = int((75/100)*m)\n",
    "#m_test =  int((25/100)*m)\n",
    "\n",
    "\n",
    "# X_training = instances for training set\n",
    "X_training2 = X_reduced2[0:m_training,:]\n",
    "#Y_training = labels for the training set\n",
    "#Y_training = Y[0:m_training]\n",
    "\n",
    "# X_test = instances for test set\n",
    "X_test2 = X_reduced2[m_training:m,:]\n",
    "# Y_test = labels for the test set\n",
    "#Y_test = Y[m_training:m]"
   ]
  },
  {
   "cell_type": "code",
   "execution_count": 17,
   "metadata": {},
   "outputs": [
    {
     "name": "stdout",
     "output_type": "stream",
     "text": [
      "Error rate on test set: 0.06\n"
     ]
    }
   ],
   "source": [
    "# learning from training data\n",
    "logreg.fit(X_training2, Y_training)\n",
    "\n",
    "#print the error rate = fraction of misclassified samples\n",
    "y_pred2 = logreg.predict(X_test2)\n",
    "\n",
    "error_rate_test2 = 0\n",
    "for i in range(m_test):\n",
    "    if y_pred2[i] != Y_test[i]:\n",
    "        error_rate_test2 += 1\n",
    "        \n",
    "error_rate_test2 = error_rate_test2/m_test\n",
    "\n",
    "\n",
    "print(\"Error rate on test set: \" + str(error_rate_test2))"
   ]
  },
  {
   "cell_type": "markdown",
   "metadata": {},
   "source": [
    "## chroma_stft & spectral_centroid"
   ]
  },
  {
   "cell_type": "code",
   "execution_count": 18,
   "metadata": {},
   "outputs": [],
   "source": [
    "index_feature1 = 1\n",
    "index_feature2 = 2\n",
    "features = [index_feature1, index_feature2]\n",
    "\n",
    "#consideriamo solo le features di \"features_list\" che ci interessano\n",
    "feature_name0 = features_list[features[0]]\n",
    "feature_name1 = features_list[features[1]]\n",
    "\n",
    "\n",
    "X_reduced3 = X[:,features] #tutte le righe e solo le colonne selezionate\n",
    "\n",
    "#Y = dataset[:,-1].astype(int)   # last column contains the labels\n",
    "#Y = 2*Y-1\n",
    "\n",
    "\n",
    "#m_training = int((75/100)*m)\n",
    "#m_test =  int((25/100)*m)\n",
    "\n",
    "\n",
    "# X_training = instances for training set\n",
    "X_training3 = X_reduced3[0:m_training,:]\n",
    "#Y_training = labels for the training set\n",
    "#Y_training = Y[0:m_training]\n",
    "\n",
    "# X_test = instances for test set\n",
    "X_test3 = X_reduced3[m_training:m,:]\n",
    "# Y_test = labels for the test set\n",
    "#Y_test = Y[m_test:m]"
   ]
  },
  {
   "cell_type": "code",
   "execution_count": 19,
   "metadata": {},
   "outputs": [
    {
     "name": "stdout",
     "output_type": "stream",
     "text": [
      "Error rate on test set: 0.0\n"
     ]
    }
   ],
   "source": [
    "# learning from training data\n",
    "logreg.fit(X_training3, Y_training)\n",
    "\n",
    "#print the error rate = fraction of misclassified samples\n",
    "y_pred3 = logreg.predict(X_test3)\n",
    "\n",
    "error_rate_test3 = 0\n",
    "for i in range(m_test):\n",
    "    if y_pred3[i] != Y_test[i]:\n",
    "        error_rate_test += 1\n",
    "        \n",
    "error_rate_test3 = error_rate_test3/m_test\n",
    "print(\"Error rate on test set: \" + str(error_rate_test3))"
   ]
  },
  {
   "cell_type": "markdown",
   "metadata": {},
   "source": [
    "**TO DO** [Answer the following] Which features did you select and why ? Compare the perfromances with the ones of the case with all the 3 features and comment about the results. [Write the answer in this cell]\n",
    "\n",
    "**ANSWER QUESTION 3** I compared all the possible features couples: (tempo and chroma_stft)  /  (tempo and spectral centroid)  /  (chroma_stft and spectral centroid). I choosed the couple that returned the lowest error. The best couple is formed by  chroma_stft and spectral_centroid features, that returned a 0.0 error. This result is better than the one obtained using all three features."
   ]
  },
  {
   "cell_type": "markdown",
   "metadata": {},
   "source": [
    "If everything is ok, the code below uses the model in $logreg$ to plot the decision region for the two features chosen above, with colors denoting the predicted value. It also plots the points (with correct labels) in the training set. It makes a similar plot for the test set."
   ]
  },
  {
   "cell_type": "markdown",
   "metadata": {},
   "source": [
    "# PLOT chroma_stft & spectral_centroid"
   ]
  },
  {
   "cell_type": "code",
   "execution_count": 20,
   "metadata": {},
   "outputs": [
    {
     "name": "stderr",
     "output_type": "stream",
     "text": [
      "<ipython-input-20-85d4e1a09f22>:18: MatplotlibDeprecationWarning: shading='flat' when X and Y have the same dimensions as C is deprecated since 3.3.  Either specify the corners of the quadrilaterals with X and Y, or pass shading='auto', 'nearest' or 'gouraud', or set rcParams['pcolor.shading'].  This will become an error two minor releases later.\n",
      "  plt.pcolormesh(xx, yy, Z, cmap=plt.cm.Paired)\n"
     ]
    },
    {
     "data": {
      "image/png": "[encoded data removed]",
      "text/plain": [
       "<Figure size 288x216 with 1 Axes>"
      ]
     },
     "metadata": {},
     "output_type": "display_data"
    },
    {
     "name": "stderr",
     "output_type": "stream",
     "text": [
      "<ipython-input-20-85d4e1a09f22>:36: MatplotlibDeprecationWarning: shading='flat' when X and Y have the same dimensions as C is deprecated since 3.3.  Either specify the corners of the quadrilaterals with X and Y, or pass shading='auto', 'nearest' or 'gouraud', or set rcParams['pcolor.shading'].  This will become an error two minor releases later.\n",
      "  plt.pcolormesh(xx, yy, Z, cmap=plt.cm.Paired)\n"
     ]
    },
    {
     "data": {
      "image/png": "[encoded data removed]",
      "text/plain": [
       "<Figure size 288x216 with 1 Axes>"
      ]
     },
     "metadata": {},
     "output_type": "display_data"
    }
   ],
   "source": [
    "# Plot the decision boundary. For that, we will assign a color to each\n",
    "# point in the mesh [x_min, x_max]x[y_min, y_max].\n",
    "\n",
    "# NOTICE: This visualization code has been developed for a \"standard\" solution of the notebook, \n",
    "# it could be necessary to make some fixes to adapt to your implementation\n",
    "\n",
    "h = .02  # step size in the mesh\n",
    "x_min, x_max = X_reduced3[:, 0].min() - .5, X_reduced3[:, 0].max() + .5\n",
    "y_min, y_max = X_reduced3[:, 1].min() - .5, X_reduced3[:, 1].max() + .5\n",
    "xx, yy = np.meshgrid(np.arange(x_min, x_max, h), np.arange(y_min, y_max, h))\n",
    "\n",
    "Z = logreg.predict(np.c_[xx.ravel(), yy.ravel()])\n",
    "\n",
    "# Put the result into a color plot\n",
    "Z = Z.reshape(xx.shape)\n",
    "\n",
    "plt.figure(1, figsize=(4, 3))\n",
    "plt.pcolormesh(xx, yy, Z, cmap=plt.cm.Paired)\n",
    "\n",
    "# Plot also the training points\n",
    "plt.scatter(X_training3[:, 0], X_training3[:, 1], c=Y_training, edgecolors='k', cmap=plt.cm.Paired)\n",
    "plt.xlabel(\"chroma_stft\")\n",
    "plt.ylabel(\"spectral_centroid\")\n",
    "\n",
    "plt.xlim(xx.min(), xx.max())\n",
    "plt.ylim(yy.min(), yy.max())\n",
    "plt.xticks(())\n",
    "plt.yticks(())\n",
    "plt.title('Training set')\n",
    "\n",
    "plt.show()\n",
    "\n",
    "# Put the result into a color plot\n",
    "Z = Z.reshape(xx.shape)\n",
    "plt.figure(1, figsize=(4, 3))\n",
    "plt.pcolormesh(xx, yy, Z, cmap=plt.cm.Paired)\n",
    "\n",
    "# Plot also the test points \n",
    "plt.scatter(X_test3[:, 0], X_test3[:, 1], c=Y_test, edgecolors='k', cmap=plt.cm.Paired, marker='s')\n",
    "plt.xlabel(\"chroma_stft\")\n",
    "plt.ylabel(\"spectral_centroid\")\n",
    "\n",
    "plt.xlim(xx.min(), xx.max())\n",
    "plt.ylim(yy.min(), yy.max())\n",
    "plt.xticks(())\n",
    "plt.yticks(())\n",
    "plt.title('Test set')\n",
    "\n",
    "plt.show()"
   ]
  },
  {
   "cell_type": "markdown",
   "metadata": {},
   "source": [
    "# 2) Linear Regression on the Boston House Price dataset\n",
    "\n",
    "### Dataset description: \n",
    "\n",
    "The Boston House Price Dataset involves the prediction of a house price in thousands of dollars given details about the house and its neighborhood.\n",
    "\n",
    "The dataset contains a total of 500 observations, which relate 13 input features to an output variable (house price).\n",
    "\n",
    "The variable names are as follows:\n",
    "\n",
    "CRIM: per capita crime rate by town.\n",
    "\n",
    "ZN: proportion of residential land zoned for lots over 25,000 sq.ft.\n",
    "\n",
    "INDUS: proportion of nonretail business acres per town.\n",
    "\n",
    "CHAS: Charles River dummy variable (= 1 if tract bounds river; 0 otherwise).\n",
    "\n",
    "NOX: nitric oxides concentration (parts per 10 million).\n",
    "\n",
    "RM: average number of rooms per dwelling.\n",
    "\n",
    "AGE: proportion of owner-occupied units built prior to 1940.\n",
    "\n",
    "DIS: weighted distances to five Boston employment centers.\n",
    "\n",
    "RAD: index of accessibility to radial highways.\n",
    "\n",
    "TAX: full-value property-tax rate per $10,000.\n",
    "\n",
    "PTRATIO: pupil-teacher ratio by town.\n",
    "\n",
    "B: 1000*(Bk – 0.63)2 where Bk is the proportion of blacks by town.\n",
    "\n",
    "LSTAT: % lower status of the population.\n",
    "\n",
    "MEDV: Median value of owner-occupied homes in $1000s.\n",
    "    "
   ]
  },
  {
   "cell_type": "code",
   "execution_count": 21,
   "metadata": {},
   "outputs": [],
   "source": [
    "#needed if you get the IPython/javascript error on the in-line plots\n",
    "%matplotlib nbagg  \n",
    "import pandas as pd\n",
    "import matplotlib.pyplot as plt\n",
    "import numpy as np\n",
    "import scipy as sp\n",
    "from scipy import stats\n",
    "from sklearn.metrics import mean_squared_error"
   ]
  },
  {
   "cell_type": "code",
   "execution_count": 22,
   "metadata": {},
   "outputs": [
    {
     "name": "stdout",
     "output_type": "stream",
     "text": [
      "DescribeResult(nobs=500, minmax=(array([6.3200e-03, 0.0000e+00, 4.6000e-01, 0.0000e+00, 3.8500e-01,\n",
      "       3.5610e+00, 2.9000e+00, 1.1296e+00, 1.0000e+00, 1.8700e+02,\n",
      "       1.2600e+01, 3.2000e-01, 1.7300e+00, 5.0000e+01]), array([ 88.9762, 100.    ,  27.74  ,   1.    ,   0.871 ,   8.78  ,\n",
      "       100.    ,  12.1265,  24.    , 711.    ,  22.    , 396.9   ,\n",
      "        37.97  , 500.    ])), mean=array([3.65578576e+00, 1.15000000e+01, 1.11317400e+01, 7.00000000e-02,\n",
      "       5.54451400e-01, 6.28297000e+00, 6.84246000e+01, 3.81193180e+00,\n",
      "       9.64200000e+00, 4.09624000e+02, 1.84286000e+01, 3.56208040e+02,\n",
      "       1.26987400e+01, 2.25680000e+02]), variance=array([7.47252195e+01, 5.48905812e+02, 4.76198228e+01, 6.52304609e-02,\n",
      "       1.35838329e-02, 4.97618330e-01, 7.99314163e+02, 4.46304043e+00,\n",
      "       7.59617595e+01, 2.85605197e+04, 4.67663531e+00, 8.41657137e+03,\n",
      "       5.13361942e+01, 8.52982926e+03]), skewness=array([ 5.17851447,  2.19924065,  0.29469001,  3.37060575,  0.72944382,\n",
      "        0.40691344, -0.58266003,  0.99061328,  0.9886802 ,  0.65098333,\n",
      "       -0.79127942, -2.85972639,  0.89051925,  1.09625625]), kurtosis=array([36.3384518 ,  3.88460431, -1.25254394,  9.3609831 , -0.10223624,\n",
      "        1.84311394, -0.99523636,  0.43299159, -0.90519243, -1.16696682,\n",
      "       -0.30903922,  7.00864873,  0.44527324,  1.4266838 ]))\n",
      "\n",
      "Shape of data array: (500, 14)\n"
     ]
    }
   ],
   "source": [
    "#Import Data: Load the data from a .csv file\n",
    "\n",
    "filename = \"data/house.csv\"\n",
    "BostonData = np.genfromtxt(filename, delimiter=';',skip_header=1)\n",
    "\n",
    "#A quick overview of data, to inspect the data you can use the method describe()\n",
    "\n",
    "\n",
    "dataDescription = stats.describe(BostonData)\n",
    "print(dataDescription)\n",
    "print (\"\\nShape of data array: \" + str(BostonData.shape))\n",
    "\n",
    "\n",
    "#for more interesting visualization: use Panda!"
   ]
  },
  {
   "cell_type": "markdown",
   "metadata": {},
   "source": [
    "# Split data in training and test sets\n",
    "\n",
    "\n",
    "\n",
    "Given $m$ total data, denote with $m_{t}$ the part used for training. Keep $m_t$ data as training data, and $m_{test}:= m-m_{t}$. For instance one can take $m_t=0.7m$ of the data as training and $m_{test}=0.3m$ as testing. Let us define as define\n",
    "\n",
    "$\\bullet$ $S_{t}$ the training data set\n",
    "\n",
    "$\\bullet$ $S_{test}$ the testing data set\n",
    "\n",
    "\n",
    "The reason for this splitting is as follows:\n",
    "\n",
    "TRAINING DATA: The training data are used to compute the empirical loss\n",
    "$$\n",
    "L_S(h) = \\frac{1}{m_t} \\sum_{z_i \\in S_{t}} \\ell(h,z_i)\n",
    "$$\n",
    "which is used to estimate $h$ in a given model class ${\\cal H}$.\n",
    "i.e. \n",
    "$$\n",
    "\\hat{h} = {\\rm arg\\; min}_{h \\in {\\cal H}} \\, L_S(h)\n",
    "$$\n",
    "\n",
    "TESTING DATA: The test data set can be used to estimate the performance of the final estimated model\n",
    "$\\hat h_{\\hat d_j}$ using:\n",
    "$$\n",
    "L_{{\\cal D}}(\\hat h_{\\hat d_j}) \\simeq \\frac{1}{m_{test}} \\sum_{ z_i \\in S_{test}} \\ell(\\hat h_{\\hat d_j},z_i)\n",
    "$$\n",
    "\n",
    "\n",
    "**TO DO**: split the data in training and test sets (70%-30%)"
   ]
  },
  {
   "cell_type": "code",
   "execution_count": 23,
   "metadata": {},
   "outputs": [
    {
     "name": "stdout",
     "output_type": "stream",
     "text": [
      "Total number of samples:  500\n",
      "Cardinality of Training Set:  350\n",
      "Training input data size:  (350, 13)\n",
      "Training output data size:  (350,)\n",
      "Test input data size:  (150, 13)\n",
      "Test output data size:  (150,)\n"
     ]
    }
   ],
   "source": [
    "#get number of total samples\n",
    "num_total_samples = BostonData.shape[0]\n",
    "\n",
    "print (\"Total number of samples: \", num_total_samples)\n",
    "\n",
    "m_t = int(num_total_samples*.7) #training samples \n",
    "m_test = (num_total_samples - m_t) #test samples\n",
    "\n",
    "print (\"Cardinality of Training Set: \", m_t)\n",
    "\n",
    "#shuffle the data\n",
    "np.random.shuffle(BostonData)\n",
    "\n",
    "\n",
    "X = BostonData[:,:-1]\n",
    "Y = BostonData[:,-1]\n",
    "\n",
    "#training data \n",
    "X_training = X[0:m_t,:]\n",
    "Y_training = Y[0:m_t]\n",
    "\n",
    "print (\"Training input data size: \", X_training.shape)\n",
    "print (\"Training output data size: \", Y_training.shape)\n",
    "\n",
    "\n",
    "#test data, to be used to estimate the true loss of the final model(s)\n",
    "X_test = X[m_t:,:]\n",
    "Y_test = Y[m_t:]\n",
    "print (\"Test input data size: \", X_test.shape)\n",
    "print (\"Test output data size: \", Y_test.shape)"
   ]
  },
  {
   "cell_type": "markdown",
   "metadata": {},
   "source": [
    "# Data Normalization\n",
    "It is common practice in Statistics and Machine Learning to scale the data (= each variable) so that it is centered (zero mean) and has standard deviation equal to 1. This helps in terms of numerical conditioning of the (inverse) problems of estimating the model (the coefficients of the linear regression in this case), as well as to give the same scale to all the coefficients."
   ]
  },
  {
   "cell_type": "code",
   "execution_count": 24,
   "metadata": {},
   "outputs": [
    {
     "name": "stdout",
     "output_type": "stream",
     "text": [
      "\n",
      "Mean of the training input data: [-0.  0.  0. -0. -0.  0. -0.  0. -0.  0.  0.  0.  0.]\n",
      "\n",
      "Std of the training input data: [1. 1. 1. 1. 1. 1. 1. 1. 1. 1. 1. 1. 1.]\n",
      "\n",
      "Mean of the test input data: [-0.01578234 -0.12564371  0.16569542  0.01884232  0.11423307 -0.09000268\n",
      "  0.08173995 -0.18303624  0.13951291  0.17809077  0.10308811 -0.20877741\n",
      " -0.00306524]\n",
      "\n",
      "Std of the test input data: [0.96452067 0.88799181 0.93595839 1.03149258 0.98621833 0.97769081\n",
      " 0.96033765 0.87000375 1.04163013 1.01190572 0.92069339 1.2983558\n",
      " 0.98946468]\n"
     ]
    }
   ],
   "source": [
    "# scale the data\n",
    "\n",
    "# standardize the input matrix\n",
    "from sklearn import preprocessing\n",
    "# the transformation is computed on training data and then used on all the 3 sets\n",
    "scaler = preprocessing.StandardScaler().fit(X_training) \n",
    "\n",
    "np.set_printoptions(suppress=True) # sets to zero floating point numbers < min_float_eps\n",
    "X_training = scaler.transform(X_training)\n",
    "print (\"\\nMean of the training input data:\", X_training.mean(axis=0))\n",
    "print (\"\\nStd of the training input data:\",X_training.std(axis=0))\n",
    "\n",
    "X_test = scaler.transform(X_test) # use the same transformation on test data\n",
    "print (\"\\nMean of the test input data:\", X_test.mean(axis=0))\n",
    "print (\"\\nStd of the test input data:\", X_test.std(axis=0))"
   ]
  },
  {
   "cell_type": "markdown",
   "metadata": {},
   "source": [
    "# Model Training \n",
    "\n",
    "The model is trained (= estimated) minimizing the empirical error\n",
    "$$\n",
    "L_S(h) := \\frac{1}{m_t} \\sum_{z_i \\in S_{t}} \\ell(h,z_i)\n",
    "$$\n",
    "When the loss function is the quadratic loss\n",
    "$$\n",
    "\\ell(h,z) := (y - h(x))^2\n",
    "$$\n",
    "we define  the Residual Sum of Squares (RSS) as\n",
    "$$\n",
    "RSS(h):= \\sum_{z_i \\in S_{t}} \\ell(h,z_i) = \\sum_{z_i \\in S_{t}} (y_i - h(x_i))^2\n",
    "$$ so that the training error becomes\n",
    "$$\n",
    "L_S(h) = \\frac{RSS(h)}{m_t}\n",
    "$$\n",
    "\n",
    "We recal that, for linear models we have $h(x) = <w,x>$ and the Empirical error $L_S(h)$ can be written\n",
    "in terms of the vector of parameters $w$ in the form\n",
    "$$\n",
    "L_S(w) = \\frac{1}{m_t} \\|Y - X w\\|^2\n",
    "$$\n",
    "where $Y$ and $X$ are the matrices whose $i-$th row are, respectively, the output data $y_i$ and the input vectors $x_i^\\top$.\n",
    "\n",
    "\n",
    " **TO DO:** compute the linear regression coefficients using np.linalg.lstsq from scikitlearn \n",
    " "
   ]
  },
  {
   "cell_type": "code",
   "execution_count": 25,
   "metadata": {},
   "outputs": [],
   "source": [
    "from scipy import linalg\n",
    "from sklearn.linear_model import LinearRegression\n",
    "import matplotlib.pyplot as plt\n",
    "import numpy as np"
   ]
  },
  {
   "cell_type": "code",
   "execution_count": 26,
   "metadata": {
    "scrolled": true
   },
   "outputs": [
    {
     "name": "stdout",
     "output_type": "stream",
     "text": [
      "LS coefficients with numpy lstsq: [225.80571429 -11.43249523  11.44437821  -0.02241221   0.78417921\n",
      " -19.97020137  33.21998447  -3.28850688 -31.88058501  23.03511612\n",
      " -24.30143694 -19.75487721   5.77747452 -26.24476062]\n",
      "\n",
      "RSS with numpy lstsq:  602938.2758924671\n",
      "RSS by hand:  602938.2758924671\n",
      "As you can notice, the values of RSS with numpy lstsq and RSS by hand are the same\n",
      "\n",
      "Empirical risk with numpy lstsq: 1722.6807882641917\n"
     ]
    }
   ],
   "source": [
    "#compute linear regression coefficients for training data\n",
    "\n",
    "#add a 1 at the beginning of each sample for training, and testing (use homogeneous coordinates)\n",
    "m_training = X_training.shape[0]\n",
    "X_trainingH = np.hstack((np.ones((m_training,1)),X_training)) # H: in homogeneous coordinates\n",
    "\n",
    "m_test = X_test.shape[0]\n",
    "X_testH = np.hstack((np.ones((m_test,1)),X_test))  # H: in homogeneous coordinates\n",
    "\n",
    "# Compute the least-squares coefficients using linalg.lstsq\n",
    "w_np, RSStr_np, rank_Xtr, sv_Xtr =  linalg.lstsq(X_trainingH, Y_training)\n",
    "print(\"LS coefficients with numpy lstsq:\", w_np)\n",
    "\n",
    "y_pred_training = np.dot(X_trainingH, w_np)\n",
    "\n",
    "# compute Residual sums of squares\n",
    "RSS = ((y_pred_training-Y_training)**2).sum()\n",
    "\n",
    "print(\"\\nRSS with numpy lstsq: \", RSStr_np)\n",
    "print(\"RSS by hand: \", RSS)\n",
    "print(\"As you can notice, the values of RSS with numpy lstsq and RSS by hand are the same\")\n",
    "print(\"\\nEmpirical risk with numpy lstsq:\", RSStr_np/m_training)"
   ]
  },
  {
   "cell_type": "markdown",
   "metadata": {},
   "source": [
    "## Data prediction \n",
    "\n",
    "Compute the output predictions on both training and test set and compute the Residual Sum of Squares (RSS). \n",
    "\n",
    "**TO DO**: Compute these quantities on  training and test sets."
   ]
  },
  {
   "cell_type": "code",
   "execution_count": 27,
   "metadata": {},
   "outputs": [
    {
     "name": "stdout",
     "output_type": "stream",
     "text": [
      "RSS on training data: 602938.2758924672\n",
      "Loss estimated from training data: 1722.6807882641922\n",
      "\n",
      "\n",
      "RSS on test data: 548850.7615493344\n",
      "Loss estimated from test data: 3659.005076995563\n"
     ]
    }
   ],
   "source": [
    "#compute predictions on training and test\n",
    "model = LinearRegression()\n",
    "\n",
    "model.fit(X_trainingH, Y_training)\n",
    "\n",
    "prediction_training = model.predict(X_trainingH)\n",
    "\n",
    "prediction_test = model.predict(X_testH)\n",
    "\n",
    "\n",
    "\n",
    "#what about the loss for points in the test data?\n",
    "\n",
    "RSS_training = ((Y_training - prediction_training)**2).sum()\n",
    "RSS_test = ((Y_test - prediction_test)**2).sum()\n",
    "\n",
    "print(\"RSS on training data:\", RSS_training)\n",
    "print(\"Loss estimated from training data:\", RSS_training/m_training)\n",
    "print(\"\\n\")\n",
    "print(\"RSS on test data:\", RSS_test)\n",
    "print(\"Loss estimated from test data:\", RSS_test/m_test)"
   ]
  },
  {
   "cell_type": "markdown",
   "metadata": {},
   "source": [
    "### QUESTION 4: Comment on the results you get and on the difference between the train and test errors.\n",
    "\n",
    "The loss estimated on the training set is better than the loss estimated on the test set. Infact the loss estimated on the test set is the double of the loss estimated on the training set. I Expect large values in regression error loss, so these obtained values are acceptables\n",
    "\n",
    " "
   ]
  },
  {
   "cell_type": "markdown",
   "metadata": {},
   "source": [
    "## Ordinary Least-Squares using scikit-learn\n",
    "Another fast way to compute the LS estimate is through sklearn.linear_model (for this function homogeneous coordinates are not needed)."
   ]
  },
  {
   "cell_type": "code",
   "execution_count": 28,
   "metadata": {},
   "outputs": [
    {
     "name": "stdout",
     "output_type": "stream",
     "text": [
      "Intercept: 225.8057142857144\n",
      "\n",
      "\n",
      "Least-Squares Coefficients: [-11.43249523  11.44437821  -0.02241221   0.78417921 -19.97020137\n",
      "  33.21998447  -3.28850688 -31.88058501  23.03511612 -24.30143694\n",
      " -19.75487721   5.77747452 -26.24476062]\n",
      "\n",
      "Measure on training data: 0.21607540461910446\n",
      "Measure on test data: 0.3743969284919251\n"
     ]
    }
   ],
   "source": [
    "from sklearn import linear_model\n",
    "from sklearn.linear_model import LinearRegression\n",
    "\n",
    "# build the LinearRegression() model and train it\n",
    "model = LinearRegression()\n",
    "\n",
    "model.fit(X_training, Y_training)\n",
    "\n",
    "print(\"Intercept:\", model.intercept_)\n",
    "print(\"\\n\")\n",
    "print(\"Least-Squares Coefficients:\", model.coef_) #per ciascuna feature abbiamo un coefficiente\n",
    "\n",
    "# predict output values on training and test sets\n",
    "\n",
    "y_pred_training = model.predict(X_training)\n",
    "y_pred_test = model.predict(X_test)\n",
    "\n",
    "\n",
    "# return a prediction score based on the coefficient of determination\n",
    "print(\"\\nMeasure on training data:\", 1-model.score(X_training, Y_training)) #coefficiente  di determinazione (R2)\n",
    "print(\"Measure on test data:\", 1-model.score(X_test, Y_test))"
   ]
  },
  {
   "cell_type": "markdown",
   "metadata": {},
   "source": [
    "# PERCEPTRON USING NORMALIZATION DATASET\n"
   ]
  },
  {
   "cell_type": "markdown",
   "metadata": {},
   "source": [
    "In this case I have implemented the perceptron in the previous same way, whereas the dataset for training and testing has been normalized.\n",
    "I normalized the training and the test data separately, to avoid any influences between train and test data"
   ]
  },
  {
   "cell_type": "code",
   "execution_count": 29,
   "metadata": {},
   "outputs": [],
   "source": [
    "%matplotlib inline\n",
    "import matplotlib.pyplot as plt\n",
    "import csv\n",
    "\n",
    "import numpy as np\n",
    "import scipy as sp\n",
    "import sklearn as sl\n",
    "from scipy import stats\n",
    "from sklearn import datasets\n",
    "from sklearn import linear_model"
   ]
  },
  {
   "cell_type": "code",
   "execution_count": 30,
   "metadata": {},
   "outputs": [],
   "source": [
    "IDnumber = 5389267  #YOUR_ID , try also to change the seed to see the impact of random initialization on the results\n",
    "np.random.seed(IDnumber)"
   ]
  },
  {
   "cell_type": "markdown",
   "metadata": {},
   "source": [
    "Load the dataset and then split in training set and test set (the training set is typically larger, you can use a 75% tranining 25% test split) after applying a random permutation to the datset.\n",
    "\n",
    "A) Load dataset and perform permutation"
   ]
  },
  {
   "cell_type": "code",
   "execution_count": 31,
   "metadata": {},
   "outputs": [
    {
     "name": "stdout",
     "output_type": "stream",
     "text": [
      "\n",
      "Number of samples loaded: 200\n"
     ]
    }
   ],
   "source": [
    "# Load the dataset\n",
    "filename = 'data/music.csv'\n",
    "music = csv.reader(open(filename, newline='\\n'), delimiter=',') #leggiamo il file\n",
    "\n",
    "#header = next(music) # skip first line\n",
    "#print(f\"Header: {header}\\n\")\n",
    "\n",
    "dataset = np.array(list(music))\n",
    "#print(f\"Data shape: {dataset.shape}\\n\")\n",
    "#print(\"Dataset Example:\")\n",
    "#print(dataset[:10,...])\n",
    "\n",
    "X = dataset[1:,:-1].astype(float) #columns 0,1,2 contain the features (prendiamo tutte le righe, e tutte le colonne tranne l'ultima)\n",
    "\n",
    "\n",
    "#X_norm = (X - X.min())/(X.max()-X.min())\n",
    "\n",
    "#wines_norm = (wines_norm - wines_norm.min())/(wines_norm.max()- wines_norm.min())\n",
    "\n",
    "\n",
    "Y = dataset[1:,-1].astype(int)   # last column contains the labels (prendimo tutte le righe e solo l'ultima colonna)\n",
    "\n",
    "\n",
    "Y = 2*Y-1                        # for the perceptron classical--> -1, metal-->1\n",
    "\n",
    "\n",
    "m = X.shape[0] #restituisce il numero di righe, ossia il numero di samples\n",
    "print(\"\\nNumber of samples loaded:\", m)\n",
    "\n",
    "\n",
    "\n",
    "permutation =np.random.permutation(m) # random permutation\n",
    "\n",
    "X = X[permutation]\n",
    "Y = Y[permutation]"
   ]
  },
  {
   "cell_type": "markdown",
   "metadata": {},
   "source": [
    "We are going to classify class \"1\" (metal) vs class \"-1\" (classical)\n",
    "\n",
    "B) **TO DO** Divide the data into training set and test set (75% of the data in the first set, 25% in the second one)"
   ]
  },
  {
   "cell_type": "code",
   "execution_count": 32,
   "metadata": {},
   "outputs": [
    {
     "name": "stdout",
     "output_type": "stream",
     "text": [
      "\n",
      "Number of classical instances in test: 23\n",
      "Number of metal instances in test: 27\n",
      "Shape of training set: (150, 3)\n",
      "Shape of test set: (50, 3)\n"
     ]
    }
   ],
   "source": [
    "# Divide in training and test: make sure that your training set\n",
    "# contains at least 10 elements from class 1 and at least 10 elements\n",
    "# from class -1! If it does not, modify the code so to apply more random\n",
    "# permutations (or the same permutation multiple times) until this happens.\n",
    "# IMPORTANT: do not change the random seed.\n",
    "\n",
    "\n",
    "# m_training needs to be the number of samples in the test set\n",
    "m_training = int((75/100)*m)\n",
    "\n",
    "\n",
    "# m_test needs to be the number of samples in the test set\n",
    "m_test = int((25/100)*m)\n",
    "\n",
    "# X_training = instances for training set\n",
    "X_training = X[0:m_training,:]\n",
    "#Y_training = labels for the training set\n",
    "Y_training = Y[0:m_training]\n",
    "\n",
    "# X_test = instances for test set\n",
    "X_test = X[m_training:m,:]\n",
    "# Y_test = labels for the test set\n",
    "Y_test = Y[m_training:m]\n",
    "\n",
    "#print(Y_training) # to make sure that Y_training contains both 1 and -1\n",
    "#print(\"\\nNumber of samples in the test set: \",m_test)\n",
    "\n",
    "print(\"\\nNumber of classical instances in test:\", np.sum(Y_test==-1)) #sommo tutti gli elementi per cui il label è -1\n",
    "print(\"Number of metal instances in test:\", np.sum(Y_test==1)) ##sommo tutti gli elementi per cui il label è +1\n",
    "\n",
    "print(\"Shape of training set: \" + str(X_training.shape))\n",
    "print(\"Shape of test set: \" + str(X_test.shape))"
   ]
  },
  {
   "cell_type": "markdown",
   "metadata": {},
   "source": [
    "# Here I normalize independently the training test and the test set, beacuse I don't want to influence the test set with the data of the training set"
   ]
  },
  {
   "cell_type": "code",
   "execution_count": 33,
   "metadata": {},
   "outputs": [
    {
     "name": "stdout",
     "output_type": "stream",
     "text": [
      "[[0.04213249 0.00007312 0.77632208]\n",
      " [0.03991219 0.00000173 0.23354565]\n",
      " [0.03991219 0.00008355 0.70071956]\n",
      " [0.03610596 0.00002558 0.39056764]\n",
      " [0.02807058 0.         0.53109671]\n",
      " [0.03991219 0.00005884 0.44886401]\n",
      " [0.02807058 0.00004064 0.50317508]\n",
      " [0.02706616 0.0000943  0.80613445]\n",
      " [0.03158606 0.00009641 0.79622804]\n",
      " [0.03991219 0.00008461 0.66240163]]\n",
      "\n",
      "\n",
      "[[0.03424748 0.00000883 0.30578664]\n",
      " [0.03281775 0.00008938 0.82753866]\n",
      " [0.02916398 0.00002942 0.51307491]\n",
      " [0.03939453 0.00007886 0.7324541 ]\n",
      " [0.04147141 0.00012816 0.93081559]\n",
      " [0.04377905 0.000015   0.34749359]\n",
      " [0.03028822 0.00007671 0.74597902]\n",
      " [0.03751545 0.00001755 0.41825243]\n",
      " [0.03028822 0.0000853  0.81181021]\n",
      " [0.04147141 0.00002338 0.59027723]]\n"
     ]
    }
   ],
   "source": [
    "X_norm_training = (X_training - X_training.min())/(X_training.max()- X_training.min())\n",
    "X_norm_test = (X_test - X_test.min())/(X_test.max()- X_test.min())\n",
    "print(X_norm_training[:10,:])\n",
    "print(\"\\n\")\n",
    "print(X_norm_test[:10,:])"
   ]
  },
  {
   "cell_type": "markdown",
   "metadata": {},
   "source": [
    "We add a 1 in front of each sample so that we can use a vector in homogeneous coordinates to describe all the coefficients of the model. This can be done with the function  ℎ𝑠𝑡𝑎𝑐𝑘  in  𝑛𝑢𝑚𝑝𝑦 ."
   ]
  },
  {
   "cell_type": "code",
   "execution_count": 34,
   "metadata": {},
   "outputs": [
    {
     "name": "stdout",
     "output_type": "stream",
     "text": [
      "Training set in homogeneous coordinates:\n",
      "[[1.         0.04213249 0.00007312 0.77632208]\n",
      " [1.         0.03991219 0.00000173 0.23354565]\n",
      " [1.         0.03991219 0.00008355 0.70071956]\n",
      " [1.         0.03610596 0.00002558 0.39056764]\n",
      " [1.         0.02807058 0.         0.53109671]\n",
      " [1.         0.03991219 0.00005884 0.44886401]\n",
      " [1.         0.02807058 0.00004064 0.50317508]\n",
      " [1.         0.02706616 0.0000943  0.80613445]\n",
      " [1.         0.03158606 0.00009641 0.79622804]\n",
      " [1.         0.03991219 0.00008461 0.66240163]]\n"
     ]
    }
   ],
   "source": [
    "# Add a 1 to each sample (homogeneous coordinates) #aggiungiamo le coordinate omogenee agli array X delle features\n",
    "X_norm_training = np.hstack((np.ones((m_training,1)),X_norm_training))\n",
    "X_norm_test = np.hstack((np.ones((m_test,1)),X_norm_test))\n",
    "\n",
    "print(\"Training set in homogeneous coordinates:\")\n",
    "print(X_norm_training[:10,:])"
   ]
  },
  {
   "cell_type": "markdown",
   "metadata": {},
   "source": [
    "**TO DO** Now complete the function *perceptron*. Since the perceptron does not terminate if the data is not linearly separable, your implementation should return the desired output (see below) if it reached the termination condition seen in class or if a maximum number of iterations have already been run, where one iteration corresponds to one update of the perceptron weights. In case the termination is reached because the maximum number of iterations have been completed, the implementation should return **the best model** seen up to now.\n",
    "\n",
    "The input parameters to pass are:\n",
    "- $X$: the matrix of input features, one row for each sample\n",
    "- $Y$: the vector of labels for the input features matrix X\n",
    "- $max\\_num\\_iterations$: the maximum number of iterations for running the perceptron\n",
    "\n",
    "The output values are:\n",
    "- $best\\_w$: the vector with the coefficients of the best model\n",
    "- $best\\_error$: the *fraction* of misclassified samples for the best model"
   ]
  },
  {
   "cell_type": "code",
   "execution_count": 35,
   "metadata": {},
   "outputs": [],
   "source": [
    "def perceptron_update(current_w, x, y, lr):\n",
    "    new_w = current_w + lr*y*x\n",
    "    return new_w\n",
    "\n",
    "def perceptron_norm(X, Y, lr, max_num_iterations):\n",
    "    # Place in this function the main section of the perceptron algorithm\n",
    "    \n",
    "    #init the algorith with w=0, use a best_w variable to keep track of the best solution\n",
    "    curr_w = np.zeros(X.shape[1]) #tanti pesi quante sono le features, ossia X.shape[1]\n",
    "    best_w = np.zeros(X.shape[1])\n",
    "    num_samples = 150\n",
    "    best_error = 1\n",
    "    \n",
    "    index_misclassified = 0 \n",
    "    num_misclassified = 0 \n",
    "    \n",
    "    \n",
    "    #main loop continue until all samples correctly classified or max # iterations reached\n",
    "    num_iter = 1\n",
    "    \n",
    "    while ((index_misclassified != -1) and (num_iter < max_num_iterations)):\n",
    "        \n",
    "        index_misclassified = -1\n",
    "        num_misclassified = 0\n",
    "        \n",
    "        # avoid working always on the same sample, you can use a random permutation or randomize the choice of misclassified\n",
    "        \n",
    "        \n",
    "        permutation = np.random.permutation(num_samples) \n",
    "        X = X[permutation]\n",
    "        Y = Y[permutation]\n",
    "        \n",
    "        l = []\n",
    "        number_of_misclassifications = []\n",
    "        for i in range(num_samples):  #valuto la classificazione di tutti i samples \n",
    "\n",
    "            #check if the i-th randomly selected sample is misclassified (nel caso in cui la classificazione sia errata, aggiungo l'indice alla lista l)\n",
    "            if Y[i]*(X[i].dot(curr_w)) <= 0:\n",
    "                l.append(i)\n",
    "                num_misclassified += 1 #aggiorno il numero di esempi non correttamente classificati\n",
    "    \n",
    "                \n",
    "            # store the number of randomly classified samples and the index of at least one of them\n",
    "           \n",
    "            \n",
    "        error = num_misclassified/num_samples  #dopo aver valutato tutti gli individui, calcolo l'errore\n",
    "        number_of_misclassifications.append(num_misclassified)\n",
    "        \n",
    "            \n",
    "        #keep track of best solution\n",
    "        if error < best_error:\n",
    "            best_error = error\n",
    "            best_w = curr_w\n",
    "        \n",
    "        \n",
    "        if num_misclassified != 0:  #nel caso in cui ci siano esempi non classificati correttamente, eseguo un update\n",
    "            index_misclassified = l[np.random.randint(0,len(l))] #scelgo casualmente l'indice dell'esempio non correttamente classificato\n",
    "            \n",
    "        num_iter += 1 #aggiorno il numero di iterazioni\n",
    "        \n",
    "        #call update function using a misclassifed sample\n",
    "        curr_w = perceptron_update(curr_w, X[index_misclassified], Y[index_misclassified],lr) #aggiorno i pesi\n",
    "        \n",
    "    \n",
    "    return best_w, best_error, number_of_misclassifications"
   ]
  },
  {
   "cell_type": "markdown",
   "metadata": {},
   "source": [
    "Now we use the implementation above of the perceptron to learn a model from the training data using 100 iterations and print the error of the best model we have found."
   ]
  },
  {
   "cell_type": "code",
   "execution_count": 36,
   "metadata": {},
   "outputs": [
    {
     "name": "stdout",
     "output_type": "stream",
     "text": [
      "Best error:  0.033 \n",
      "\n",
      "Best weights:  [-0.2        -0.00849284  0.00012133  0.34718279] \n",
      "\n"
     ]
    }
   ],
   "source": [
    "p_norm = perceptron_norm(X_norm_training, Y_training, 0.1, 100)\n",
    "\n",
    "print(\"Best error: \",round(p_norm[1],3),\"\\n\")\n",
    "print(\"Best weights: \",p_norm[0],\"\\n\")"
   ]
  },
  {
   "cell_type": "markdown",
   "metadata": {},
   "source": [
    "The best error value obtained using normalization is 0.03. In the previous case (without norrmalization) the value obtained is 0.10. It's possible to conclude that the normalization improves the performance of the perceptron."
   ]
  },
  {
   "cell_type": "markdown",
   "metadata": {},
   "source": [
    "**TO DO** use the best model $w\\_found$ to predict the labels for the test dataset and print the fraction of misclassified samples in the test set (the test error that is an estimate of the true loss)."
   ]
  },
  {
   "cell_type": "code",
   "execution_count": 37,
   "metadata": {},
   "outputs": [
    {
     "name": "stdout",
     "output_type": "stream",
     "text": [
      "Test Error of perpceptron (100 iterations):  0.08\n"
     ]
    }
   ],
   "source": [
    "#now use the w_found to make predictions on test dataset\n",
    "\n",
    "def step_func(z):\n",
    "    return 1.0 if (z > 0) else -1.0\n",
    "\n",
    "\n",
    "\n",
    "\n",
    "num_errors = 0\n",
    "\n",
    "for i in range(m_test):\n",
    "    if Y_test[i] !=  step_func(np.dot(X_norm_test[i],p_norm[0])):\n",
    "        num_errors +=1\n",
    "                                \n",
    "    \n",
    "\n",
    "true_loss_estimate = num_errors/m_test  # error rate on the test set\n",
    "#NOTE: you can avoid using num_errors if you prefer, as long as true_loss_estimate is correct\n",
    "print(\"Test Error of perpceptron (100 iterations): \", round(true_loss_estimate,3))"
   ]
  },
  {
   "cell_type": "markdown",
   "metadata": {},
   "source": [
    "**TO DO** **[Answer the following]** What about the difference betweeen the training error and the test error  in terms of fraction of misclassified samples)? Explain what you observe. [Write the answer in this cell]\n",
    "\n",
    "**ANSWER QUESTION 1**  \n",
    "The value of the test Error of \"normalized perpceptron\" is 0.08. The value obtained without the normalization is 0.10. \n",
    "In this case the ratio between the test and training error is ~ 2.4, whereas in previous case it was between 2,7 and 2,9.\n"
   ]
  },
  {
   "cell_type": "markdown",
   "metadata": {},
   "source": [
    " **TO DO** Copy the code from the last 2 cells above in the cell below and repeat the training with 4000 iterations. Then print the error in the training set and the estimate of the true loss obtained from the test set."
   ]
  },
  {
   "cell_type": "code",
   "execution_count": 38,
   "metadata": {},
   "outputs": [
    {
     "name": "stdout",
     "output_type": "stream",
     "text": [
      "Training Error of perpceptron (4000 iterations): 0.033\n",
      "Test Error of perpceptron (4000 iterations): 0.08\n"
     ]
    }
   ],
   "source": [
    "#now run the perceptron for 4000 iterations here!\n",
    "\n",
    "p2_norm = perceptron_norm(X_norm_training, Y_training, 0.1, 4000)\n",
    "\n",
    "print(\"Training Error of perpceptron (4000 iterations): \" + str(round(p2_norm[1],3)))\n",
    "\n",
    "\n",
    "num_errors2 = 0\n",
    "for i in range(m_test):\n",
    "    if Y_test[i] !=  step_func(np.dot(X_norm_test[i],p2_norm[0])):\n",
    "        num_errors2 +=1\n",
    "                                \n",
    "    \n",
    "true_loss_estimate2 = num_errors2/m_test  # error rate on the test set\n",
    "print(\"Test Error of perpceptron (4000 iterations): \" + str(true_loss_estimate2))"
   ]
  },
  {
   "cell_type": "markdown",
   "metadata": {},
   "source": [
    "**TO DO** [Answer the following] What about the difference betweeen the training error and the test error  in terms of fraction of misclassified samples) when running for a larger number of iterations ? Explain what you observe and compare with the previous case. [Write the answer in this cell]\n",
    "\n",
    "**ANSWER QUESTION 2** Implementing 4000 iterations the training error and the test error haven't decreased, and they are always the same, unlike the case of \"unnormalized perceptron\" that showed an improvement with 4000 iterations.\n",
    "Even if the values are the same, the \"normalized perceptron\" is still better than the \"unnormalized\""
   ]
  },
  {
   "cell_type": "markdown",
   "metadata": {},
   "source": [
    "# Normalized Logistic Regression"
   ]
  },
  {
   "cell_type": "markdown",
   "metadata": {},
   "source": [
    "For the Logistic Regression I didn't notice remarkable differences between the normalized and unnormalized case."
   ]
  },
  {
   "cell_type": "code",
   "execution_count": null,
   "metadata": {},
   "outputs": [],
   "source": []
  }
 ],
 "metadata": {
  "anaconda-cloud": {},
  "kernelspec": {
   "display_name": "Python 3",
   "language": "python",
   "name": "python3"
  },
  "language_info": {
   "codemirror_mode": {
    "name": "ipython",
    "version": 3
   },
   "file_extension": ".py",
   "mimetype": "text/x-python",
   "name": "python",
   "nbconvert_exporter": "python",
   "pygments_lexer": "ipython3",
   "version": "3.8.8"
  }
 },
 "nbformat": 4,
 "nbformat_minor": 4
}
